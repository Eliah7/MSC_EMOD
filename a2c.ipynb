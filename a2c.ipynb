{
 "cells": [
  {
   "cell_type": "code",
   "execution_count": 1,
   "id": "71bf6f6c-c592-47a9-99c1-e83f85327ad3",
   "metadata": {},
   "outputs": [],
   "source": [
    "import os\n",
    "import sys\n",
    "# print(sys.path)\n",
    "module_path = os.path.abspath(os.path.join('.'))\n",
    "# print(module_path)\n",
    "if module_path not in sys.path:\n",
    "    sys.path.append(module_path)\n",
    "# print(sys.path)"
   ]
  },
  {
   "cell_type": "markdown",
   "id": "67d79c74-6d7d-4b01-bffc-18cdc3b7ff9f",
   "metadata": {},
   "source": [
    "## Initiate RAY"
   ]
  },
  {
   "cell_type": "code",
   "execution_count": null,
   "id": "772febb3-f17a-45c1-af94-a33c7e73d2e6",
   "metadata": {},
   "outputs": [],
   "source": [
    "from ray.rllib.algorithms.a3c import A3CConfig\n",
    "from ray import tune, air\n",
    "import ray\n",
    "from env.environment import MalariaEnvironment"
   ]
  },
  {
   "cell_type": "code",
   "execution_count": null,
   "id": "8724a3b6-c047-47ee-a760-bd0742c340fc",
   "metadata": {},
   "outputs": [],
   "source": [
    "ray.init(ignore_reinit_error=True, num_cpus=1,local_mode=True)\n",
    "# ray.init()"
   ]
  },
  {
   "cell_type": "markdown",
   "id": "e9083df1-0b4c-4fd9-96bc-548c637c6c8d",
   "metadata": {},
   "source": [
    "## Prepare the Environment"
   ]
  },
  {
   "cell_type": "code",
   "execution_count": null,
   "id": "695f0adb-f387-4bf5-b1ab-600284e49fd5",
   "metadata": {},
   "outputs": [],
   "source": [
    "from ray.tune.registry import register_env\n",
    "\n",
    "def env_creator(env_config):\n",
    "    return MalariaEnvironment()  # return an env instance\n",
    "\n",
    "register_env(\"MalariaEnvironment\", env_creator)\n",
    "env = MalariaEnvironment()\n",
    "\n",
    "config = A3CConfig()\n",
    "\n",
    "config = config.training(lr=0.01) #.rollouts(num_rollout_workers=1)\n",
    "config = config.framework(framework='torch')\n",
    "\n",
    "# Set the config object's env.\n",
    "config = config.environment(env=\"MalariaEnvironment\")"
   ]
  },
  {
   "cell_type": "markdown",
   "id": "6dcc7fe9-3b01-4bd0-838f-e84adbb7a9c4",
   "metadata": {},
   "source": [
    "## Run Tune Config"
   ]
  },
  {
   "cell_type": "code",
   "execution_count": null,
   "id": "c640ae4b-9205-4471-82cb-4219d98229df",
   "metadata": {},
   "outputs": [],
   "source": [
    "!pwd"
   ]
  },
  {
   "cell_type": "code",
   "execution_count": null,
   "id": "4a8427c8-f222-494f-8ddb-42d7f36ca213",
   "metadata": {
    "tags": []
   },
   "outputs": [],
   "source": [
    "tune.run(\"A3C\",\n",
    "        config=config)"
   ]
  },
  {
   "cell_type": "code",
   "execution_count": null,
   "id": "030b5146-b418-4b88-bc49-4ab9e7ba35c0",
   "metadata": {},
   "outputs": [],
   "source": []
  }
 ],
 "metadata": {
  "kernelspec": {
   "display_name": "Python 3",
   "language": "python",
   "name": "python3"
  },
  "language_info": {
   "codemirror_mode": {
    "name": "ipython",
    "version": 3
   },
   "file_extension": ".py",
   "mimetype": "text/x-python",
   "name": "python",
   "nbconvert_exporter": "python",
   "pygments_lexer": "ipython3",
   "version": "3.8.8"
  }
 },
 "nbformat": 4,
 "nbformat_minor": 5
}
