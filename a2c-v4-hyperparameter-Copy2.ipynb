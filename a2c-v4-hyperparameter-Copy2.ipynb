{
 "cells": [
  {
   "cell_type": "code",
   "execution_count": 127,
   "id": "71bf6f6c-c592-47a9-99c1-e83f85327ad3",
   "metadata": {},
   "outputs": [],
   "source": [
    "import os\n",
    "import sys\n",
    "# print(sys.path)\n",
    "module_path = os.path.abspath(os.path.join('.'))\n",
    "# print(module_path)\n",
    "if module_path not in sys.path:\n",
    "    sys.path.append(module_path)\n",
    "# print(sys.path)"
   ]
  },
  {
   "cell_type": "markdown",
   "id": "67d79c74-6d7d-4b01-bffc-18cdc3b7ff9f",
   "metadata": {},
   "source": [
    "## Initiate RAY"
   ]
  },
  {
   "cell_type": "code",
   "execution_count": 128,
   "id": "772febb3-f17a-45c1-af94-a33c7e73d2e6",
   "metadata": {},
   "outputs": [],
   "source": [
    "from ray.rllib.algorithms.a3c import A3CConfig\n",
    "from ray import tune, air\n",
    "import ray\n",
    "from env.environment import MalariaEnvironment"
   ]
  },
  {
   "cell_type": "code",
   "execution_count": 3,
   "id": "89988f9c",
   "metadata": {},
   "outputs": [],
   "source": [
    "from utils.plot_parameter_utils import *"
   ]
  },
  {
   "cell_type": "code",
   "execution_count": 4,
   "id": "ed786357",
   "metadata": {},
   "outputs": [
    {
     "data": {
      "text/plain": [
       "array([0.9, 0.9])"
      ]
     },
     "execution_count": 4,
     "metadata": {},
     "output_type": "execute_result"
    }
   ],
   "source": [
    "get_init_theta()"
   ]
  },
  {
   "cell_type": "code",
   "execution_count": 5,
   "id": "8724a3b6-c047-47ee-a760-bd0742c340fc",
   "metadata": {},
   "outputs": [
    {
     "name": "stderr",
     "output_type": "stream",
     "text": [
      "2023-09-22 06:23:17,934\tINFO worker.py:1529 -- Started a local Ray instance. View the dashboard at \u001b[1m\u001b[32mhttp://127.0.0.1:8266 \u001b[39m\u001b[22m\n"
     ]
    },
    {
     "data": {
      "text/html": [
       "<div>\n",
       "    <div style=\"margin-left: 50px;display: flex;flex-direction: row;align-items: center\">\n",
       "        <h3 style=\"color: var(--jp-ui-font-color0)\">Ray</h3>\n",
       "        <svg version=\"1.1\" id=\"ray\" width=\"3em\" viewBox=\"0 0 144.5 144.6\" style=\"margin-left: 3em;margin-right: 3em\">\n",
       "            <g id=\"layer-1\">\n",
       "                <path fill=\"#00a2e9\" class=\"st0\" d=\"M97.3,77.2c-3.8-1.1-6.2,0.9-8.3,5.1c-3.5,6.8-9.9,9.9-17.4,9.6S58,88.1,54.8,81.2c-1.4-3-3-4-6.3-4.1\n",
       "                    c-5.6-0.1-9.9,0.1-13.1,6.4c-3.8,7.6-13.6,10.2-21.8,7.6C5.2,88.4-0.4,80.5,0,71.7c0.1-8.4,5.7-15.8,13.8-18.2\n",
       "                    c8.4-2.6,17.5,0.7,22.3,8c1.3,1.9,1.3,5.2,3.6,5.6c3.9,0.6,8,0.2,12,0.2c1.8,0,1.9-1.6,2.4-2.8c3.5-7.8,9.7-11.8,18-11.9\n",
       "                    c8.2-0.1,14.4,3.9,17.8,11.4c1.3,2.8,2.9,3.6,5.7,3.3c1-0.1,2,0.1,3,0c2.8-0.5,6.4,1.7,8.1-2.7s-2.3-5.5-4.1-7.5\n",
       "                    c-5.1-5.7-10.9-10.8-16.1-16.3C84,38,81.9,37.1,78,38.3C66.7,42,56.2,35.7,53,24.1C50.3,14,57.3,2.8,67.7,0.5\n",
       "                    C78.4-2,89,4.7,91.5,15.3c0.1,0.3,0.1,0.5,0.2,0.8c0.7,3.4,0.7,6.9-0.8,9.8c-1.7,3.2-0.8,5,1.5,7.2c6.7,6.5,13.3,13,19.8,19.7\n",
       "                    c1.8,1.8,3,2.1,5.5,1.2c9.1-3.4,17.9-0.6,23.4,7c4.8,6.9,4.6,16.1-0.4,22.9c-5.4,7.2-14.2,9.9-23.1,6.5c-2.3-0.9-3.5-0.6-5.1,1.1\n",
       "                    c-6.7,6.9-13.6,13.7-20.5,20.4c-1.8,1.8-2.5,3.2-1.4,5.9c3.5,8.7,0.3,18.6-7.7,23.6c-7.9,5-18.2,3.8-24.8-2.9\n",
       "                    c-6.4-6.4-7.4-16.2-2.5-24.3c4.9-7.8,14.5-11,23.1-7.8c3,1.1,4.7,0.5,6.9-1.7C91.7,98.4,98,92.3,104.2,86c1.6-1.6,4.1-2.7,2.6-6.2\n",
       "                    c-1.4-3.3-3.8-2.5-6.2-2.6C99.8,77.2,98.9,77.2,97.3,77.2z M72.1,29.7c5.5,0.1,9.9-4.3,10-9.8c0-0.1,0-0.2,0-0.3\n",
       "                    C81.8,14,77,9.8,71.5,10.2c-5,0.3-9,4.2-9.3,9.2c-0.2,5.5,4,10.1,9.5,10.3C71.8,29.7,72,29.7,72.1,29.7z M72.3,62.3\n",
       "                    c-5.4-0.1-9.9,4.2-10.1,9.7c0,0.2,0,0.3,0,0.5c0.2,5.4,4.5,9.7,9.9,10c5.1,0.1,9.9-4.7,10.1-9.8c0.2-5.5-4-10-9.5-10.3\n",
       "                    C72.6,62.3,72.4,62.3,72.3,62.3z M115,72.5c0.1,5.4,4.5,9.7,9.8,9.9c5.6-0.2,10-4.8,10-10.4c-0.2-5.4-4.6-9.7-10-9.7\n",
       "                    c-5.3-0.1-9.8,4.2-9.9,9.5C115,72.1,115,72.3,115,72.5z M19.5,62.3c-5.4,0.1-9.8,4.4-10,9.8c-0.1,5.1,5.2,10.4,10.2,10.3\n",
       "                    c5.6-0.2,10-4.9,9.8-10.5c-0.1-5.4-4.5-9.7-9.9-9.6C19.6,62.3,19.5,62.3,19.5,62.3z M71.8,134.6c5.9,0.2,10.3-3.9,10.4-9.6\n",
       "                    c0.5-5.5-3.6-10.4-9.1-10.8c-5.5-0.5-10.4,3.6-10.8,9.1c0,0.5,0,0.9,0,1.4c-0.2,5.3,4,9.8,9.3,10\n",
       "                    C71.6,134.6,71.7,134.6,71.8,134.6z\"/>\n",
       "            </g>\n",
       "        </svg>\n",
       "        <table>\n",
       "            <tr>\n",
       "                <td style=\"text-align: left\"><b>Python version:</b></td>\n",
       "                <td style=\"text-align: left\"><b>3.8.8</b></td>\n",
       "            </tr>\n",
       "            <tr>\n",
       "                <td style=\"text-align: left\"><b>Ray version:</b></td>\n",
       "                <td style=\"text-align: left\"><b> 2.2.0</b></td>\n",
       "            </tr>\n",
       "            <tr>\n",
       "    <td style=\"text-align: left\"><b>Dashboard:</b></td>\n",
       "    <td style=\"text-align: left\"><b><a href=\"http://127.0.0.1:8266\" target=\"_blank\">http://127.0.0.1:8266</a></b></td>\n",
       "</tr>\n",
       "\n",
       "        </table>\n",
       "    </div>\n",
       "</div>\n"
      ],
      "text/plain": [
       "RayContext(dashboard_url='127.0.0.1:8266', python_version='3.8.8', ray_version='2.2.0', ray_commit='b6af0887ee5f2e460202133791ad941a41f15beb', address_info={'node_ip_address': '10.8.13.207', 'raylet_ip_address': '10.8.13.207', 'redis_address': None, 'object_store_address': '/tmp/ray/session_2023-09-22_06-23-10_435915_56735/sockets/plasma_store', 'raylet_socket_name': '/tmp/ray/session_2023-09-22_06-23-10_435915_56735/sockets/raylet', 'webui_url': '127.0.0.1:8266', 'session_dir': '/tmp/ray/session_2023-09-22_06-23-10_435915_56735', 'metrics_export_port': 55572, 'gcs_address': '10.8.13.207:64239', 'address': '10.8.13.207:64239', 'dashboard_agent_listen_port': 52365, 'node_id': 'f17f08f4a8cc1a5c99b3f50615e605f5261fdc8ad6ec2233b8ae541f'})"
      ]
     },
     "execution_count": 5,
     "metadata": {},
     "output_type": "execute_result"
    }
   ],
   "source": [
    "ray.init(ignore_reinit_error=True, num_cpus=10,local_mode=True)\n",
    "# ray.init()"
   ]
  },
  {
   "cell_type": "markdown",
   "id": "e9083df1-0b4c-4fd9-96bc-548c637c6c8d",
   "metadata": {},
   "source": [
    "## Prepare the Environment"
   ]
  },
  {
   "cell_type": "code",
   "execution_count": 6,
   "id": "695f0adb-f387-4bf5-b1ab-600284e49fd5",
   "metadata": {},
   "outputs": [],
   "source": [
    "from ray.tune.registry import register_env\n",
    "\n",
    "def env_creator(env_config):\n",
    "    return MalariaEnvironment()  # return an env instance\n",
    "\n",
    "register_env(\"MalariaEnvironment\", env_creator)\n",
    "env = MalariaEnvironment()\n",
    "\n",
    "config = A3CConfig()\n",
    "\n",
    "# config = config.training(lr=0.01) #.rollouts(num_rollout_workers=1)\n",
    "# config = config.framework(framework='tf2')\n",
    "\n",
    "# Set the config object's env.\n",
    "config = config.environment(env=\"MalariaEnvironment\")"
   ]
  },
  {
   "cell_type": "code",
   "execution_count": 7,
   "id": "b2fa2a61",
   "metadata": {},
   "outputs": [],
   "source": [
    "from scipy.stats import linregress, sem"
   ]
  },
  {
   "cell_type": "code",
   "execution_count": 8,
   "id": "20a7ebbf",
   "metadata": {
    "scrolled": true
   },
   "outputs": [],
   "source": [
    "from ray.tune.logger import pretty_print\n",
    "\n",
    "config = A3CConfig()\n",
    "# Print out some default values.\n",
    "# print(config.sample_async)  \n",
    "# Update the config object.\n",
    "config = config.training( \n",
    "    lr=tune.grid_search([0.01, 0.001, 0.0001]), \n",
    "    entropy_coeff=tune.grid_search([0.01, 0.001, 0.0001])\n",
    ")\n",
    "# config = config.training(lr=0.01)\n",
    "# config = config.training(lr=tune.grid_search([0.001, 0.01, 0.1]))\n",
    "# config = config.rollouts(num_rollout_workers=1)\n",
    "config = config.framework()\n",
    "\n",
    "# Set the config object's env.\n",
    "config = config.environment(env=\"MalariaEnvironment\") \n",
    "# Use to_dict() to get the old-style python config dict\n",
    "# when running with tune.\n",
    "\n",
    "#pretty_print(config.to_dict())\n",
    "\n",
    "# algo = config.build()"
   ]
  },
  {
   "cell_type": "code",
   "execution_count": 9,
   "id": "0c7157dc",
   "metadata": {},
   "outputs": [],
   "source": [
    "import numpy as np\n",
    "import matplotlib.pyplot as plt\n",
    "import os\n",
    "import pickle\n",
    "import tempfile\n",
    "import time\n",
    "\n",
    "import ray\n",
    "from ray import train, tune\n",
    "from ray.tune.schedulers import PopulationBasedTraining\n",
    "from ray.tune.tune_config import TuneConfig\n",
    "from ray.tune.tuner import Tuner"
   ]
  },
  {
   "cell_type": "code",
   "execution_count": null,
   "id": "27286af3",
   "metadata": {},
   "outputs": [],
   "source": []
  },
  {
   "cell_type": "code",
   "execution_count": null,
   "id": "9ffd6d51",
   "metadata": {},
   "outputs": [],
   "source": []
  },
  {
   "cell_type": "code",
   "execution_count": null,
   "id": "af3bfb14",
   "metadata": {},
   "outputs": [],
   "source": []
  },
  {
   "cell_type": "code",
   "execution_count": null,
   "id": "f3338a45",
   "metadata": {
    "scrolled": true
   },
   "outputs": [
    {
     "name": "stderr",
     "output_type": "stream",
     "text": [
      "/opt/anaconda3/lib/python3.8/site-packages/ray/tune/tune.py:505: UserWarning: Consider boosting PBT performance by enabling `reuse_actors` as well as implementing `reset_config` for Trainable.\n",
      "  warnings.warn(\n",
      ":task_name:bundle_reservation_check_func\n",
      ":actor_name:A3C\n"
     ]
    },
    {
     "name": "stdout",
     "output_type": "stream",
     "text": [
      "<IPython.core.display.HTML object>\n",
      ":task_name:bundle_reservation_check_func\n",
      ":actor_name:A3C\n",
      ":actor_name:RolloutWorker\n",
      "ACTION OrderedDict([('IRS', array([0.8734805], dtype=float32)), ('ITNS', array([0.9574791], dtype=float32))])\n",
      "Setting IRS to 0.873480498790741\n",
      "Setting ITNS to 0.9574791193008423\n",
      "\n",
      "\n",
      "*** WRITING TO CAMPAIGNS FILE ***\n",
      "*** SUCCESSFULLY CHANGED CAMPAIGNS FILE*** \n",
      "\n",
      "\n",
      "Action is setTrue\n",
      "\n",
      "Starting Simulation...\n",
      "\n"
     ]
    },
    {
     "name": "stderr",
     "output_type": "stream",
     "text": [
      ":actor_name:RolloutWorker\n"
     ]
    },
    {
     "name": "stdout",
     "output_type": "stream",
     "text": [
      "/root/ray_results/A3C/A3C_MalariaEnvironment_59ada_00000_0_lambda=0.9000,lr=0.0010,train_batch_size=10000_2023-10-06_05-23-34\n"
     ]
    }
   ],
   "source": [
    "# https://docs.ray.io/en/latest/tune/examples/pbt_ppo_example.html\n",
    "import random\n",
    "\n",
    "import ray\n",
    "from ray import air, tune\n",
    "from ray.tune.schedulers import PopulationBasedTraining\n",
    "\n",
    "hyperparam_mutations = {\n",
    "    \"lambda\": lambda: random.uniform(0.9, 1.0),\n",
    "    \"clip_param\": lambda: random.uniform(0.01, 0.5),\n",
    "    \"lr\": [1e-3, 5e-4, 1e-4, 5e-5, 1e-5],\n",
    "#         \"num_sgd_iter\": lambda: random.randint(1, 30),\n",
    "#         \"sgd_minibatch_size\": lambda: random.randint(128, 16384),\n",
    "#         \"train_batch_size\": lambda: random.randint(2000, 160000),\n",
    "}\n",
    "\n",
    "pbt = PopulationBasedTraining(\n",
    "    time_attr=\"time_total_s\",\n",
    "    perturbation_interval=120,\n",
    "    resample_probability=0.25,\n",
    "    # Specifies the mutations of these hyperparams\n",
    "    hyperparam_mutations=hyperparam_mutations,\n",
    "    #custom_explore_fn=explore,\n",
    ")\n",
    "\n",
    "# Stop when we've either reached 100 training iterations or reward=300\n",
    "stopping_criteria = {\"training_iteration\": 100, \"episode_reward_mean\": -20}\n",
    "\n",
    "tuner = tune.Tuner(\n",
    "    \"A3C\",\n",
    "    tune_config=tune.TuneConfig(\n",
    "        metric=\"episode_reward_mean\",\n",
    "        mode=\"max\",\n",
    "        scheduler=pbt\n",
    "    ),\n",
    "    param_space={\n",
    "        \"env\": \"MalariaEnvironment\",\n",
    "        \"kl_coeff\": 1.0,\n",
    "        \"num_workers\": 4,\n",
    "        \"num_cpus\": 64,  # number of CPUs to use per trial\n",
    "        \"num_gpus\": 0,  # number of GPUs to use per trial\n",
    "        \"model\": {\"free_log_std\": True},\n",
    "        # These params are tuned from a fixed starting value.\n",
    "        \"lambda\":  tune.grid_search([0.9, 1]),#0.95,\n",
    "        \"clip_param\": 0.2,\n",
    "        \"lr\": tune.grid_search([1e-3,1e-4]),#1e-4,\n",
    "        \"train_batch_size\":  tune.grid_search([10000, 20000])\n",
    "        # These params start off randomly drawn from a set.\n",
    "#         \"num_sgd_iter\": tune.grid_search([10, 20, 30]),\n",
    "#         \"sgd_minibatch_size\":  tune.grid_search([128, 512, 2048]),\n",
    "#         \"train_batch_size\":  tune.grid_search([10000, 20000, 40000]),\n",
    "    },\n",
    "    #run_config=air.RunConfig(stop=stopping_criteria),\n",
    ")\n",
    "results = tuner.fit()"
   ]
  },
  {
   "cell_type": "code",
   "execution_count": 20,
   "id": "cbde9de0",
   "metadata": {
    "scrolled": true
   },
   "outputs": [
    {
     "ename": "TypeError",
     "evalue": "__init__() takes 2 positional arguments but 4 were given",
     "output_type": "error",
     "traceback": [
      "\u001b[0;31m---------------------------------------------------------------------------\u001b[0m",
      "\u001b[0;31mTypeError\u001b[0m                                 Traceback (most recent call last)",
      "\u001b[0;32m<ipython-input-20-c680c52a2cff>\u001b[0m in \u001b[0;36m<module>\u001b[0;34m\u001b[0m\n\u001b[1;32m      1\u001b[0m \u001b[0;32mimport\u001b[0m \u001b[0mpprint\u001b[0m\u001b[0;34m\u001b[0m\u001b[0;34m\u001b[0m\u001b[0m\n\u001b[1;32m      2\u001b[0m \u001b[0;34m\u001b[0m\u001b[0m\n\u001b[0;32m----> 3\u001b[0;31m \u001b[0mbest_result\u001b[0m \u001b[0;34m=\u001b[0m \u001b[0mresults\u001b[0m\u001b[0;34m.\u001b[0m\u001b[0mget_best_result\u001b[0m\u001b[0;34m(\u001b[0m\u001b[0;34m)\u001b[0m\u001b[0;34m\u001b[0m\u001b[0;34m\u001b[0m\u001b[0m\n\u001b[0m",
      "\u001b[0;32m/opt/anaconda3/lib/python3.8/site-packages/ray/tune/result_grid.py\u001b[0m in \u001b[0;36mget_best_result\u001b[0;34m(self, metric, mode, scope, filter_nan_and_inf)\u001b[0m\n\u001b[1;32m    134\u001b[0m             \u001b[0;32mraise\u001b[0m \u001b[0mRuntimeError\u001b[0m\u001b[0;34m(\u001b[0m\u001b[0merror_msg\u001b[0m\u001b[0;34m)\u001b[0m\u001b[0;34m\u001b[0m\u001b[0;34m\u001b[0m\u001b[0m\n\u001b[1;32m    135\u001b[0m \u001b[0;34m\u001b[0m\u001b[0m\n\u001b[0;32m--> 136\u001b[0;31m         \u001b[0;32mreturn\u001b[0m \u001b[0mself\u001b[0m\u001b[0;34m.\u001b[0m\u001b[0m_trial_to_result\u001b[0m\u001b[0;34m(\u001b[0m\u001b[0mbest_trial\u001b[0m\u001b[0;34m)\u001b[0m\u001b[0;34m\u001b[0m\u001b[0;34m\u001b[0m\u001b[0m\n\u001b[0m\u001b[1;32m    137\u001b[0m \u001b[0;34m\u001b[0m\u001b[0m\n\u001b[1;32m    138\u001b[0m     def get_dataframe(\n",
      "\u001b[0;32m/opt/anaconda3/lib/python3.8/site-packages/ray/tune/result_grid.py\u001b[0m in \u001b[0;36m_trial_to_result\u001b[0;34m(self, trial)\u001b[0m\n\u001b[1;32m    231\u001b[0m             \u001b[0mcheckpoint\u001b[0m\u001b[0;34m=\u001b[0m\u001b[0mcheckpoint\u001b[0m\u001b[0;34m,\u001b[0m\u001b[0;34m\u001b[0m\u001b[0;34m\u001b[0m\u001b[0m\n\u001b[1;32m    232\u001b[0m             \u001b[0mmetrics\u001b[0m\u001b[0;34m=\u001b[0m\u001b[0mtrial\u001b[0m\u001b[0;34m.\u001b[0m\u001b[0mlast_result\u001b[0m\u001b[0;34m.\u001b[0m\u001b[0mcopy\u001b[0m\u001b[0;34m(\u001b[0m\u001b[0;34m)\u001b[0m\u001b[0;34m,\u001b[0m\u001b[0;34m\u001b[0m\u001b[0;34m\u001b[0m\u001b[0m\n\u001b[0;32m--> 233\u001b[0;31m             \u001b[0merror\u001b[0m\u001b[0;34m=\u001b[0m\u001b[0mself\u001b[0m\u001b[0;34m.\u001b[0m\u001b[0m_populate_exception\u001b[0m\u001b[0;34m(\u001b[0m\u001b[0mtrial\u001b[0m\u001b[0;34m)\u001b[0m\u001b[0;34m,\u001b[0m\u001b[0;34m\u001b[0m\u001b[0;34m\u001b[0m\u001b[0m\n\u001b[0m\u001b[1;32m    234\u001b[0m             \u001b[0mlog_dir\u001b[0m\u001b[0;34m=\u001b[0m\u001b[0mPath\u001b[0m\u001b[0;34m(\u001b[0m\u001b[0mtrial\u001b[0m\u001b[0;34m.\u001b[0m\u001b[0mlogdir\u001b[0m\u001b[0;34m)\u001b[0m \u001b[0;32mif\u001b[0m \u001b[0mtrial\u001b[0m\u001b[0;34m.\u001b[0m\u001b[0mlogdir\u001b[0m \u001b[0;32melse\u001b[0m \u001b[0;32mNone\u001b[0m\u001b[0;34m,\u001b[0m\u001b[0;34m\u001b[0m\u001b[0;34m\u001b[0m\u001b[0m\n\u001b[1;32m    235\u001b[0m             metrics_dataframe=self._experiment_analysis.trial_dataframes.get(\n",
      "\u001b[0;32m/opt/anaconda3/lib/python3.8/site-packages/ray/tune/result_grid.py\u001b[0m in \u001b[0;36m_populate_exception\u001b[0;34m(trial)\u001b[0m\n\u001b[1;32m    214\u001b[0m         \u001b[0;32mif\u001b[0m \u001b[0mtrial\u001b[0m\u001b[0;34m.\u001b[0m\u001b[0mpickled_error_file\u001b[0m \u001b[0;32mand\u001b[0m \u001b[0mos\u001b[0m\u001b[0;34m.\u001b[0m\u001b[0mpath\u001b[0m\u001b[0;34m.\u001b[0m\u001b[0mexists\u001b[0m\u001b[0;34m(\u001b[0m\u001b[0mtrial\u001b[0m\u001b[0;34m.\u001b[0m\u001b[0mpickled_error_file\u001b[0m\u001b[0;34m)\u001b[0m\u001b[0;34m:\u001b[0m\u001b[0;34m\u001b[0m\u001b[0;34m\u001b[0m\u001b[0m\n\u001b[1;32m    215\u001b[0m             \u001b[0;32mwith\u001b[0m \u001b[0mopen\u001b[0m\u001b[0;34m(\u001b[0m\u001b[0mtrial\u001b[0m\u001b[0;34m.\u001b[0m\u001b[0mpickled_error_file\u001b[0m\u001b[0;34m,\u001b[0m \u001b[0;34m\"rb\"\u001b[0m\u001b[0;34m)\u001b[0m \u001b[0;32mas\u001b[0m \u001b[0mf\u001b[0m\u001b[0;34m:\u001b[0m\u001b[0;34m\u001b[0m\u001b[0;34m\u001b[0m\u001b[0m\n\u001b[0;32m--> 216\u001b[0;31m                 \u001b[0me\u001b[0m \u001b[0;34m=\u001b[0m \u001b[0mcloudpickle\u001b[0m\u001b[0;34m.\u001b[0m\u001b[0mload\u001b[0m\u001b[0;34m(\u001b[0m\u001b[0mf\u001b[0m\u001b[0;34m)\u001b[0m\u001b[0;34m\u001b[0m\u001b[0;34m\u001b[0m\u001b[0m\n\u001b[0m\u001b[1;32m    217\u001b[0m                 \u001b[0;32mreturn\u001b[0m \u001b[0me\u001b[0m\u001b[0;34m\u001b[0m\u001b[0;34m\u001b[0m\u001b[0m\n\u001b[1;32m    218\u001b[0m         \u001b[0;32melif\u001b[0m \u001b[0mtrial\u001b[0m\u001b[0;34m.\u001b[0m\u001b[0merror_file\u001b[0m \u001b[0;32mand\u001b[0m \u001b[0mos\u001b[0m\u001b[0;34m.\u001b[0m\u001b[0mpath\u001b[0m\u001b[0;34m.\u001b[0m\u001b[0mexists\u001b[0m\u001b[0;34m(\u001b[0m\u001b[0mtrial\u001b[0m\u001b[0;34m.\u001b[0m\u001b[0merror_file\u001b[0m\u001b[0;34m)\u001b[0m\u001b[0;34m:\u001b[0m\u001b[0;34m\u001b[0m\u001b[0;34m\u001b[0m\u001b[0m\n",
      "\u001b[0;31mTypeError\u001b[0m: __init__() takes 2 positional arguments but 4 were given"
     ]
    }
   ],
   "source": [
    "import pprint\n",
    "\n",
    "best_result = results.get_best_result()"
   ]
  },
  {
   "cell_type": "code",
   "execution_count": 19,
   "id": "63790af8",
   "metadata": {
    "scrolled": true
   },
   "outputs": [
    {
     "ename": "TypeError",
     "evalue": "__init__() takes 2 positional arguments but 4 were given",
     "output_type": "error",
     "traceback": [
      "\u001b[0;31m---------------------------------------------------------------------------\u001b[0m",
      "\u001b[0;31mTypeError\u001b[0m                                 Traceback (most recent call last)",
      "\u001b[0;32m<ipython-input-19-7f8fc609a069>\u001b[0m in \u001b[0;36m<module>\u001b[0;34m\u001b[0m\n\u001b[1;32m      1\u001b[0m \u001b[0;32mimport\u001b[0m \u001b[0mpprint\u001b[0m\u001b[0;34m\u001b[0m\u001b[0;34m\u001b[0m\u001b[0m\n\u001b[1;32m      2\u001b[0m \u001b[0;34m\u001b[0m\u001b[0m\n\u001b[0;32m----> 3\u001b[0;31m \u001b[0mbest_result\u001b[0m \u001b[0;34m=\u001b[0m \u001b[0mresults\u001b[0m\u001b[0;34m.\u001b[0m\u001b[0mget_best_result\u001b[0m\u001b[0;34m(\u001b[0m\u001b[0;34m)\u001b[0m\u001b[0;34m\u001b[0m\u001b[0;34m\u001b[0m\u001b[0m\n\u001b[0m\u001b[1;32m      4\u001b[0m \u001b[0;34m\u001b[0m\u001b[0m\n\u001b[1;32m      5\u001b[0m \u001b[0mprint\u001b[0m\u001b[0;34m(\u001b[0m\u001b[0;34m\"Best performing trial's final set of hyperparameters:\\n\"\u001b[0m\u001b[0;34m)\u001b[0m\u001b[0;34m\u001b[0m\u001b[0;34m\u001b[0m\u001b[0m\n",
      "\u001b[0;32m/opt/anaconda3/lib/python3.8/site-packages/ray/tune/result_grid.py\u001b[0m in \u001b[0;36mget_best_result\u001b[0;34m(self, metric, mode, scope, filter_nan_and_inf)\u001b[0m\n\u001b[1;32m    134\u001b[0m             \u001b[0;32mraise\u001b[0m \u001b[0mRuntimeError\u001b[0m\u001b[0;34m(\u001b[0m\u001b[0merror_msg\u001b[0m\u001b[0;34m)\u001b[0m\u001b[0;34m\u001b[0m\u001b[0;34m\u001b[0m\u001b[0m\n\u001b[1;32m    135\u001b[0m \u001b[0;34m\u001b[0m\u001b[0m\n\u001b[0;32m--> 136\u001b[0;31m         \u001b[0;32mreturn\u001b[0m \u001b[0mself\u001b[0m\u001b[0;34m.\u001b[0m\u001b[0m_trial_to_result\u001b[0m\u001b[0;34m(\u001b[0m\u001b[0mbest_trial\u001b[0m\u001b[0;34m)\u001b[0m\u001b[0;34m\u001b[0m\u001b[0;34m\u001b[0m\u001b[0m\n\u001b[0m\u001b[1;32m    137\u001b[0m \u001b[0;34m\u001b[0m\u001b[0m\n\u001b[1;32m    138\u001b[0m     def get_dataframe(\n",
      "\u001b[0;32m/opt/anaconda3/lib/python3.8/site-packages/ray/tune/result_grid.py\u001b[0m in \u001b[0;36m_trial_to_result\u001b[0;34m(self, trial)\u001b[0m\n\u001b[1;32m    231\u001b[0m             \u001b[0mcheckpoint\u001b[0m\u001b[0;34m=\u001b[0m\u001b[0mcheckpoint\u001b[0m\u001b[0;34m,\u001b[0m\u001b[0;34m\u001b[0m\u001b[0;34m\u001b[0m\u001b[0m\n\u001b[1;32m    232\u001b[0m             \u001b[0mmetrics\u001b[0m\u001b[0;34m=\u001b[0m\u001b[0mtrial\u001b[0m\u001b[0;34m.\u001b[0m\u001b[0mlast_result\u001b[0m\u001b[0;34m.\u001b[0m\u001b[0mcopy\u001b[0m\u001b[0;34m(\u001b[0m\u001b[0;34m)\u001b[0m\u001b[0;34m,\u001b[0m\u001b[0;34m\u001b[0m\u001b[0;34m\u001b[0m\u001b[0m\n\u001b[0;32m--> 233\u001b[0;31m             \u001b[0merror\u001b[0m\u001b[0;34m=\u001b[0m\u001b[0mself\u001b[0m\u001b[0;34m.\u001b[0m\u001b[0m_populate_exception\u001b[0m\u001b[0;34m(\u001b[0m\u001b[0mtrial\u001b[0m\u001b[0;34m)\u001b[0m\u001b[0;34m,\u001b[0m\u001b[0;34m\u001b[0m\u001b[0;34m\u001b[0m\u001b[0m\n\u001b[0m\u001b[1;32m    234\u001b[0m             \u001b[0mlog_dir\u001b[0m\u001b[0;34m=\u001b[0m\u001b[0mPath\u001b[0m\u001b[0;34m(\u001b[0m\u001b[0mtrial\u001b[0m\u001b[0;34m.\u001b[0m\u001b[0mlogdir\u001b[0m\u001b[0;34m)\u001b[0m \u001b[0;32mif\u001b[0m \u001b[0mtrial\u001b[0m\u001b[0;34m.\u001b[0m\u001b[0mlogdir\u001b[0m \u001b[0;32melse\u001b[0m \u001b[0;32mNone\u001b[0m\u001b[0;34m,\u001b[0m\u001b[0;34m\u001b[0m\u001b[0;34m\u001b[0m\u001b[0m\n\u001b[1;32m    235\u001b[0m             metrics_dataframe=self._experiment_analysis.trial_dataframes.get(\n",
      "\u001b[0;32m/opt/anaconda3/lib/python3.8/site-packages/ray/tune/result_grid.py\u001b[0m in \u001b[0;36m_populate_exception\u001b[0;34m(trial)\u001b[0m\n\u001b[1;32m    214\u001b[0m         \u001b[0;32mif\u001b[0m \u001b[0mtrial\u001b[0m\u001b[0;34m.\u001b[0m\u001b[0mpickled_error_file\u001b[0m \u001b[0;32mand\u001b[0m \u001b[0mos\u001b[0m\u001b[0;34m.\u001b[0m\u001b[0mpath\u001b[0m\u001b[0;34m.\u001b[0m\u001b[0mexists\u001b[0m\u001b[0;34m(\u001b[0m\u001b[0mtrial\u001b[0m\u001b[0;34m.\u001b[0m\u001b[0mpickled_error_file\u001b[0m\u001b[0;34m)\u001b[0m\u001b[0;34m:\u001b[0m\u001b[0;34m\u001b[0m\u001b[0;34m\u001b[0m\u001b[0m\n\u001b[1;32m    215\u001b[0m             \u001b[0;32mwith\u001b[0m \u001b[0mopen\u001b[0m\u001b[0;34m(\u001b[0m\u001b[0mtrial\u001b[0m\u001b[0;34m.\u001b[0m\u001b[0mpickled_error_file\u001b[0m\u001b[0;34m,\u001b[0m \u001b[0;34m\"rb\"\u001b[0m\u001b[0;34m)\u001b[0m \u001b[0;32mas\u001b[0m \u001b[0mf\u001b[0m\u001b[0;34m:\u001b[0m\u001b[0;34m\u001b[0m\u001b[0;34m\u001b[0m\u001b[0m\n\u001b[0;32m--> 216\u001b[0;31m                 \u001b[0me\u001b[0m \u001b[0;34m=\u001b[0m \u001b[0mcloudpickle\u001b[0m\u001b[0;34m.\u001b[0m\u001b[0mload\u001b[0m\u001b[0;34m(\u001b[0m\u001b[0mf\u001b[0m\u001b[0;34m)\u001b[0m\u001b[0;34m\u001b[0m\u001b[0;34m\u001b[0m\u001b[0m\n\u001b[0m\u001b[1;32m    217\u001b[0m                 \u001b[0;32mreturn\u001b[0m \u001b[0me\u001b[0m\u001b[0;34m\u001b[0m\u001b[0;34m\u001b[0m\u001b[0m\n\u001b[1;32m    218\u001b[0m         \u001b[0;32melif\u001b[0m \u001b[0mtrial\u001b[0m\u001b[0;34m.\u001b[0m\u001b[0merror_file\u001b[0m \u001b[0;32mand\u001b[0m \u001b[0mos\u001b[0m\u001b[0;34m.\u001b[0m\u001b[0mpath\u001b[0m\u001b[0;34m.\u001b[0m\u001b[0mexists\u001b[0m\u001b[0;34m(\u001b[0m\u001b[0mtrial\u001b[0m\u001b[0;34m.\u001b[0m\u001b[0merror_file\u001b[0m\u001b[0;34m)\u001b[0m\u001b[0;34m:\u001b[0m\u001b[0;34m\u001b[0m\u001b[0;34m\u001b[0m\u001b[0m\n",
      "\u001b[0;31mTypeError\u001b[0m: __init__() takes 2 positional arguments but 4 were given"
     ]
    }
   ],
   "source": [
    "\n",
    "\n",
    "print(\"Best performing trial's final set of hyperparameters:\\n\")\n",
    "pprint.pprint(\n",
    "    {k: v for k, v in best_result.config.items() if k in hyperparam_mutations}\n",
    ")\n",
    "\n",
    "print(\"\\nBest performing trial's final reported metrics:\\n\")\n",
    "\n",
    "metrics_to_print = [\n",
    "    \"episode_reward_mean\",\n",
    "    \"episode_reward_max\",\n",
    "    \"episode_reward_min\",\n",
    "    \"episode_len_mean\",\n",
    "]\n",
    "pprint.pprint({k: v for k, v in best_result.metrics.items() if k in metrics_to_print})"
   ]
  },
  {
   "cell_type": "code",
   "execution_count": 14,
   "id": "980f9567",
   "metadata": {},
   "outputs": [],
   "source": [
    "df = results.get_dataframe()"
   ]
  },
  {
   "cell_type": "code",
   "execution_count": 100,
   "id": "46da7981",
   "metadata": {},
   "outputs": [
    {
     "ename": "AttributeError",
     "evalue": "Can't pickle local object 'AlgorithmConfig.__init__.<locals>.<lambda>'",
     "output_type": "error",
     "traceback": [
      "\u001b[0;31m---------------------------------------------------------------------------\u001b[0m",
      "\u001b[0;31mAttributeError\u001b[0m                            Traceback (most recent call last)",
      "\u001b[0;32m<ipython-input-100-53fa1b447023>\u001b[0m in \u001b[0;36m<module>\u001b[0;34m\u001b[0m\n\u001b[1;32m      2\u001b[0m \u001b[0;34m\u001b[0m\u001b[0m\n\u001b[1;32m      3\u001b[0m \u001b[0mfileObj\u001b[0m \u001b[0;34m=\u001b[0m \u001b[0mopen\u001b[0m\u001b[0;34m(\u001b[0m\u001b[0;34m'/home/mbwie001/ms/objects/a2c_2'\u001b[0m\u001b[0;34m,\u001b[0m \u001b[0;34m'wb'\u001b[0m\u001b[0;34m)\u001b[0m\u001b[0;34m\u001b[0m\u001b[0;34m\u001b[0m\u001b[0m\n\u001b[0;32m----> 4\u001b[0;31m \u001b[0mpickle\u001b[0m\u001b[0;34m.\u001b[0m\u001b[0mdump\u001b[0m\u001b[0;34m(\u001b[0m\u001b[0mresults\u001b[0m\u001b[0;34m,\u001b[0m\u001b[0mfileObj\u001b[0m\u001b[0;34m)\u001b[0m\u001b[0;34m\u001b[0m\u001b[0;34m\u001b[0m\u001b[0m\n\u001b[0m\u001b[1;32m      5\u001b[0m \u001b[0mfileObj\u001b[0m\u001b[0;34m.\u001b[0m\u001b[0mclose\u001b[0m\u001b[0;34m(\u001b[0m\u001b[0;34m)\u001b[0m\u001b[0;34m\u001b[0m\u001b[0;34m\u001b[0m\u001b[0m\n",
      "\u001b[0;31mAttributeError\u001b[0m: Can't pickle local object 'AlgorithmConfig.__init__.<locals>.<lambda>'"
     ]
    }
   ],
   "source": [
    "import pickle\n",
    "\n",
    "fileObj = open('/home/mbwie001/ms/objects/a2c_2', 'wb')\n",
    "pickle.dump(results,fileObj)\n",
    "fileObj.close()"
   ]
  },
  {
   "cell_type": "code",
   "execution_count": 21,
   "id": "69476510",
   "metadata": {},
   "outputs": [
    {
     "data": {
      "text/html": [
       "<div>\n",
       "<style scoped>\n",
       "    .dataframe tbody tr th:only-of-type {\n",
       "        vertical-align: middle;\n",
       "    }\n",
       "\n",
       "    .dataframe tbody tr th {\n",
       "        vertical-align: top;\n",
       "    }\n",
       "\n",
       "    .dataframe thead th {\n",
       "        text-align: right;\n",
       "    }\n",
       "</style>\n",
       "<table border=\"1\" class=\"dataframe\">\n",
       "  <thead>\n",
       "    <tr style=\"text-align: right;\">\n",
       "      <th></th>\n",
       "      <th>episode_reward_max</th>\n",
       "      <th>episode_reward_min</th>\n",
       "      <th>episode_reward_mean</th>\n",
       "      <th>episode_len_mean</th>\n",
       "      <th>episodes_this_iter</th>\n",
       "      <th>num_faulty_episodes</th>\n",
       "      <th>num_healthy_workers</th>\n",
       "      <th>num_in_flight_async_reqs</th>\n",
       "      <th>num_remote_worker_restarts</th>\n",
       "      <th>num_agent_steps_sampled</th>\n",
       "      <th>...</th>\n",
       "      <th>config/clip_param</th>\n",
       "      <th>config/env</th>\n",
       "      <th>config/kl_coeff</th>\n",
       "      <th>config/lambda</th>\n",
       "      <th>config/lr</th>\n",
       "      <th>config/num_cpus</th>\n",
       "      <th>config/num_gpus</th>\n",
       "      <th>config/num_workers</th>\n",
       "      <th>config/model/free_log_std</th>\n",
       "      <th>logdir</th>\n",
       "    </tr>\n",
       "  </thead>\n",
       "  <tbody>\n",
       "    <tr>\n",
       "      <th>0</th>\n",
       "      <td>-9.128667</td>\n",
       "      <td>-234.591407</td>\n",
       "      <td>-116.533326</td>\n",
       "      <td>1.0</td>\n",
       "      <td>38</td>\n",
       "      <td>0</td>\n",
       "      <td>4</td>\n",
       "      <td>0</td>\n",
       "      <td>0</td>\n",
       "      <td>3840</td>\n",
       "      <td>...</td>\n",
       "      <td>0.2</td>\n",
       "      <td>MalariaEnvironment</td>\n",
       "      <td>1.0</td>\n",
       "      <td>0.9</td>\n",
       "      <td>0.0010</td>\n",
       "      <td>64</td>\n",
       "      <td>0</td>\n",
       "      <td>4</td>\n",
       "      <td>True</td>\n",
       "      <td>/root/ray_results/A3C/A3C_MalariaEnvironment_a...</td>\n",
       "    </tr>\n",
       "    <tr>\n",
       "      <th>1</th>\n",
       "      <td>-9.128667</td>\n",
       "      <td>-234.652593</td>\n",
       "      <td>-84.154123</td>\n",
       "      <td>1.0</td>\n",
       "      <td>38</td>\n",
       "      <td>0</td>\n",
       "      <td>4</td>\n",
       "      <td>0</td>\n",
       "      <td>0</td>\n",
       "      <td>2120</td>\n",
       "      <td>...</td>\n",
       "      <td>0.2</td>\n",
       "      <td>MalariaEnvironment</td>\n",
       "      <td>1.0</td>\n",
       "      <td>1.0</td>\n",
       "      <td>0.0010</td>\n",
       "      <td>64</td>\n",
       "      <td>0</td>\n",
       "      <td>4</td>\n",
       "      <td>True</td>\n",
       "      <td>/root/ray_results/A3C/A3C_MalariaEnvironment_a...</td>\n",
       "    </tr>\n",
       "    <tr>\n",
       "      <th>2</th>\n",
       "      <td>-9.128496</td>\n",
       "      <td>-233.367893</td>\n",
       "      <td>-38.861286</td>\n",
       "      <td>1.0</td>\n",
       "      <td>40</td>\n",
       "      <td>0</td>\n",
       "      <td>4</td>\n",
       "      <td>0</td>\n",
       "      <td>0</td>\n",
       "      <td>3480</td>\n",
       "      <td>...</td>\n",
       "      <td>0.2</td>\n",
       "      <td>MalariaEnvironment</td>\n",
       "      <td>1.0</td>\n",
       "      <td>0.9</td>\n",
       "      <td>0.0001</td>\n",
       "      <td>64</td>\n",
       "      <td>0</td>\n",
       "      <td>4</td>\n",
       "      <td>True</td>\n",
       "      <td>/root/ray_results/A3C/A3C_MalariaEnvironment_a...</td>\n",
       "    </tr>\n",
       "    <tr>\n",
       "      <th>3</th>\n",
       "      <td>-9.128667</td>\n",
       "      <td>-234.591407</td>\n",
       "      <td>-125.293727</td>\n",
       "      <td>1.0</td>\n",
       "      <td>40</td>\n",
       "      <td>0</td>\n",
       "      <td>4</td>\n",
       "      <td>0</td>\n",
       "      <td>0</td>\n",
       "      <td>2320</td>\n",
       "      <td>...</td>\n",
       "      <td>0.2</td>\n",
       "      <td>MalariaEnvironment</td>\n",
       "      <td>1.0</td>\n",
       "      <td>1.0</td>\n",
       "      <td>0.0001</td>\n",
       "      <td>64</td>\n",
       "      <td>0</td>\n",
       "      <td>4</td>\n",
       "      <td>True</td>\n",
       "      <td>/root/ray_results/A3C/A3C_MalariaEnvironment_a...</td>\n",
       "    </tr>\n",
       "  </tbody>\n",
       "</table>\n",
       "<p>4 rows × 87 columns</p>\n",
       "</div>"
      ],
      "text/plain": [
       "   episode_reward_max  episode_reward_min  episode_reward_mean  \\\n",
       "0           -9.128667         -234.591407          -116.533326   \n",
       "1           -9.128667         -234.652593           -84.154123   \n",
       "2           -9.128496         -233.367893           -38.861286   \n",
       "3           -9.128667         -234.591407          -125.293727   \n",
       "\n",
       "   episode_len_mean  episodes_this_iter  num_faulty_episodes  \\\n",
       "0               1.0                  38                    0   \n",
       "1               1.0                  38                    0   \n",
       "2               1.0                  40                    0   \n",
       "3               1.0                  40                    0   \n",
       "\n",
       "   num_healthy_workers  num_in_flight_async_reqs  num_remote_worker_restarts  \\\n",
       "0                    4                         0                           0   \n",
       "1                    4                         0                           0   \n",
       "2                    4                         0                           0   \n",
       "3                    4                         0                           0   \n",
       "\n",
       "   num_agent_steps_sampled  ...  config/clip_param          config/env  \\\n",
       "0                     3840  ...                0.2  MalariaEnvironment   \n",
       "1                     2120  ...                0.2  MalariaEnvironment   \n",
       "2                     3480  ...                0.2  MalariaEnvironment   \n",
       "3                     2320  ...                0.2  MalariaEnvironment   \n",
       "\n",
       "   config/kl_coeff  config/lambda  config/lr  config/num_cpus  \\\n",
       "0              1.0            0.9     0.0010               64   \n",
       "1              1.0            1.0     0.0010               64   \n",
       "2              1.0            0.9     0.0001               64   \n",
       "3              1.0            1.0     0.0001               64   \n",
       "\n",
       "   config/num_gpus  config/num_workers  config/model/free_log_std  \\\n",
       "0                0                   4                       True   \n",
       "1                0                   4                       True   \n",
       "2                0                   4                       True   \n",
       "3                0                   4                       True   \n",
       "\n",
       "                                              logdir  \n",
       "0  /root/ray_results/A3C/A3C_MalariaEnvironment_a...  \n",
       "1  /root/ray_results/A3C/A3C_MalariaEnvironment_a...  \n",
       "2  /root/ray_results/A3C/A3C_MalariaEnvironment_a...  \n",
       "3  /root/ray_results/A3C/A3C_MalariaEnvironment_a...  \n",
       "\n",
       "[4 rows x 87 columns]"
      ]
     },
     "execution_count": 21,
     "metadata": {},
     "output_type": "execute_result"
    }
   ],
   "source": [
    "df"
   ]
  },
  {
   "cell_type": "code",
   "execution_count": 24,
   "id": "683de4ac",
   "metadata": {},
   "outputs": [
    {
     "name": "stdout",
     "output_type": "stream",
     "text": [
      "/root/ray_results/A3C/A3C_MalariaEnvironment_ae70b_00000_0_lambda=0.9000,lr=0.0010_2023-09-22_06-25-30\n",
      "/root/ray_results/A3C/A3C_MalariaEnvironment_ae70b_00001_1_lambda=1,lr=0.0010_2023-09-22_13-55-32\n",
      "/root/ray_results/A3C/A3C_MalariaEnvironment_ae70b_00002_2_lambda=0.9000,lr=0.0001_2023-09-22_18-08-48\n",
      "/root/ray_results/A3C/A3C_MalariaEnvironment_ae70b_00003_3_lambda=1,lr=0.0001_2023-09-23_00-57-17\n"
     ]
    }
   ],
   "source": [
    "for log in (df['logdir']):\n",
    "    print(log)"
   ]
  },
  {
   "cell_type": "code",
   "execution_count": 122,
   "id": "1bf38409",
   "metadata": {},
   "outputs": [
    {
     "data": {
      "text/plain": [
       "4"
      ]
     },
     "execution_count": 122,
     "metadata": {},
     "output_type": "execute_result"
    }
   ],
   "source": [
    "len(results)"
   ]
  },
  {
   "cell_type": "code",
   "execution_count": 126,
   "id": "78f971e9",
   "metadata": {},
   "outputs": [
    {
     "ename": "TypeError",
     "evalue": "__init__() takes 2 positional arguments but 4 were given",
     "output_type": "error",
     "traceback": [
      "\u001b[0;31m---------------------------------------------------------------------------\u001b[0m",
      "\u001b[0;31mTypeError\u001b[0m                                 Traceback (most recent call last)",
      "\u001b[0;32m<ipython-input-126-7af1dfcd47d7>\u001b[0m in \u001b[0;36m<module>\u001b[0;34m\u001b[0m\n\u001b[0;32m----> 1\u001b[0;31m \u001b[0mdf1\u001b[0m \u001b[0;34m=\u001b[0m \u001b[0mresults\u001b[0m\u001b[0;34m[\u001b[0m\u001b[0;36m0\u001b[0m\u001b[0;34m]\u001b[0m\u001b[0;34m.\u001b[0m\u001b[0mmetrics_dataframe\u001b[0m\u001b[0;34m\u001b[0m\u001b[0;34m\u001b[0m\u001b[0m\n\u001b[0m",
      "\u001b[0;32m/opt/anaconda3/lib/python3.8/site-packages/ray/tune/result_grid.py\u001b[0m in \u001b[0;36m__getitem__\u001b[0;34m(self, i)\u001b[0m\n\u001b[1;32m    183\u001b[0m     \u001b[0;32mdef\u001b[0m \u001b[0m__getitem__\u001b[0m\u001b[0;34m(\u001b[0m\u001b[0mself\u001b[0m\u001b[0;34m,\u001b[0m \u001b[0mi\u001b[0m\u001b[0;34m:\u001b[0m \u001b[0mint\u001b[0m\u001b[0;34m)\u001b[0m \u001b[0;34m->\u001b[0m \u001b[0mResult\u001b[0m\u001b[0;34m:\u001b[0m\u001b[0;34m\u001b[0m\u001b[0;34m\u001b[0m\u001b[0m\n\u001b[1;32m    184\u001b[0m         \u001b[0;34m\"\"\"Returns the i'th result in the grid.\"\"\"\u001b[0m\u001b[0;34m\u001b[0m\u001b[0;34m\u001b[0m\u001b[0m\n\u001b[0;32m--> 185\u001b[0;31m         return self._trial_to_result(\n\u001b[0m\u001b[1;32m    186\u001b[0m             \u001b[0mself\u001b[0m\u001b[0;34m.\u001b[0m\u001b[0m_experiment_analysis\u001b[0m\u001b[0;34m.\u001b[0m\u001b[0mtrials\u001b[0m\u001b[0;34m[\u001b[0m\u001b[0mi\u001b[0m\u001b[0;34m]\u001b[0m\u001b[0;34m,\u001b[0m\u001b[0;34m\u001b[0m\u001b[0;34m\u001b[0m\u001b[0m\n\u001b[1;32m    187\u001b[0m         )\n",
      "\u001b[0;32m/opt/anaconda3/lib/python3.8/site-packages/ray/tune/result_grid.py\u001b[0m in \u001b[0;36m_trial_to_result\u001b[0;34m(self, trial)\u001b[0m\n\u001b[1;32m    231\u001b[0m             \u001b[0mcheckpoint\u001b[0m\u001b[0;34m=\u001b[0m\u001b[0mcheckpoint\u001b[0m\u001b[0;34m,\u001b[0m\u001b[0;34m\u001b[0m\u001b[0;34m\u001b[0m\u001b[0m\n\u001b[1;32m    232\u001b[0m             \u001b[0mmetrics\u001b[0m\u001b[0;34m=\u001b[0m\u001b[0mtrial\u001b[0m\u001b[0;34m.\u001b[0m\u001b[0mlast_result\u001b[0m\u001b[0;34m.\u001b[0m\u001b[0mcopy\u001b[0m\u001b[0;34m(\u001b[0m\u001b[0;34m)\u001b[0m\u001b[0;34m,\u001b[0m\u001b[0;34m\u001b[0m\u001b[0;34m\u001b[0m\u001b[0m\n\u001b[0;32m--> 233\u001b[0;31m             \u001b[0merror\u001b[0m\u001b[0;34m=\u001b[0m\u001b[0mself\u001b[0m\u001b[0;34m.\u001b[0m\u001b[0m_populate_exception\u001b[0m\u001b[0;34m(\u001b[0m\u001b[0mtrial\u001b[0m\u001b[0;34m)\u001b[0m\u001b[0;34m,\u001b[0m\u001b[0;34m\u001b[0m\u001b[0;34m\u001b[0m\u001b[0m\n\u001b[0m\u001b[1;32m    234\u001b[0m             \u001b[0mlog_dir\u001b[0m\u001b[0;34m=\u001b[0m\u001b[0mPath\u001b[0m\u001b[0;34m(\u001b[0m\u001b[0mtrial\u001b[0m\u001b[0;34m.\u001b[0m\u001b[0mlogdir\u001b[0m\u001b[0;34m)\u001b[0m \u001b[0;32mif\u001b[0m \u001b[0mtrial\u001b[0m\u001b[0;34m.\u001b[0m\u001b[0mlogdir\u001b[0m \u001b[0;32melse\u001b[0m \u001b[0;32mNone\u001b[0m\u001b[0;34m,\u001b[0m\u001b[0;34m\u001b[0m\u001b[0;34m\u001b[0m\u001b[0m\n\u001b[1;32m    235\u001b[0m             metrics_dataframe=self._experiment_analysis.trial_dataframes.get(\n",
      "\u001b[0;32m/opt/anaconda3/lib/python3.8/site-packages/ray/tune/result_grid.py\u001b[0m in \u001b[0;36m_populate_exception\u001b[0;34m(trial)\u001b[0m\n\u001b[1;32m    214\u001b[0m         \u001b[0;32mif\u001b[0m \u001b[0mtrial\u001b[0m\u001b[0;34m.\u001b[0m\u001b[0mpickled_error_file\u001b[0m \u001b[0;32mand\u001b[0m \u001b[0mos\u001b[0m\u001b[0;34m.\u001b[0m\u001b[0mpath\u001b[0m\u001b[0;34m.\u001b[0m\u001b[0mexists\u001b[0m\u001b[0;34m(\u001b[0m\u001b[0mtrial\u001b[0m\u001b[0;34m.\u001b[0m\u001b[0mpickled_error_file\u001b[0m\u001b[0;34m)\u001b[0m\u001b[0;34m:\u001b[0m\u001b[0;34m\u001b[0m\u001b[0;34m\u001b[0m\u001b[0m\n\u001b[1;32m    215\u001b[0m             \u001b[0;32mwith\u001b[0m \u001b[0mopen\u001b[0m\u001b[0;34m(\u001b[0m\u001b[0mtrial\u001b[0m\u001b[0;34m.\u001b[0m\u001b[0mpickled_error_file\u001b[0m\u001b[0;34m,\u001b[0m \u001b[0;34m\"rb\"\u001b[0m\u001b[0;34m)\u001b[0m \u001b[0;32mas\u001b[0m \u001b[0mf\u001b[0m\u001b[0;34m:\u001b[0m\u001b[0;34m\u001b[0m\u001b[0;34m\u001b[0m\u001b[0m\n\u001b[0;32m--> 216\u001b[0;31m                 \u001b[0me\u001b[0m \u001b[0;34m=\u001b[0m \u001b[0mcloudpickle\u001b[0m\u001b[0;34m.\u001b[0m\u001b[0mload\u001b[0m\u001b[0;34m(\u001b[0m\u001b[0mf\u001b[0m\u001b[0;34m)\u001b[0m\u001b[0;34m\u001b[0m\u001b[0;34m\u001b[0m\u001b[0m\n\u001b[0m\u001b[1;32m    217\u001b[0m                 \u001b[0;32mreturn\u001b[0m \u001b[0me\u001b[0m\u001b[0;34m\u001b[0m\u001b[0;34m\u001b[0m\u001b[0m\n\u001b[1;32m    218\u001b[0m         \u001b[0;32melif\u001b[0m \u001b[0mtrial\u001b[0m\u001b[0;34m.\u001b[0m\u001b[0merror_file\u001b[0m \u001b[0;32mand\u001b[0m \u001b[0mos\u001b[0m\u001b[0;34m.\u001b[0m\u001b[0mpath\u001b[0m\u001b[0;34m.\u001b[0m\u001b[0mexists\u001b[0m\u001b[0;34m(\u001b[0m\u001b[0mtrial\u001b[0m\u001b[0;34m.\u001b[0m\u001b[0merror_file\u001b[0m\u001b[0;34m)\u001b[0m\u001b[0;34m:\u001b[0m\u001b[0;34m\u001b[0m\u001b[0;34m\u001b[0m\u001b[0m\n",
      "\u001b[0;31mTypeError\u001b[0m: __init__() takes 2 positional arguments but 4 were given"
     ]
    }
   ],
   "source": [
    "df1 = results[0].metrics_dataframe"
   ]
  },
  {
   "cell_type": "code",
   "execution_count": 114,
   "id": "27302bb9",
   "metadata": {},
   "outputs": [
    {
     "data": {
      "text/html": [
       "<div>\n",
       "<style scoped>\n",
       "    .dataframe tbody tr th:only-of-type {\n",
       "        vertical-align: middle;\n",
       "    }\n",
       "\n",
       "    .dataframe tbody tr th {\n",
       "        vertical-align: top;\n",
       "    }\n",
       "\n",
       "    .dataframe thead th {\n",
       "        text-align: right;\n",
       "    }\n",
       "</style>\n",
       "<table border=\"1\" class=\"dataframe\">\n",
       "  <thead>\n",
       "    <tr style=\"text-align: right;\">\n",
       "      <th></th>\n",
       "      <th>episode_reward_max</th>\n",
       "      <th>episode_reward_min</th>\n",
       "      <th>episode_reward_mean</th>\n",
       "      <th>episode_len_mean</th>\n",
       "      <th>episodes_this_iter</th>\n",
       "      <th>num_faulty_episodes</th>\n",
       "      <th>num_healthy_workers</th>\n",
       "      <th>num_in_flight_async_reqs</th>\n",
       "      <th>num_remote_worker_restarts</th>\n",
       "      <th>num_agent_steps_sampled</th>\n",
       "      <th>...</th>\n",
       "      <th>sampler_results/sampler_perf/mean_env_wait_ms</th>\n",
       "      <th>sampler_results/sampler_perf/mean_env_render_ms</th>\n",
       "      <th>info/learner/default_policy/learner_stats/cur_lr</th>\n",
       "      <th>info/learner/default_policy/learner_stats/entropy_coeff</th>\n",
       "      <th>info/learner/default_policy/learner_stats/policy_loss</th>\n",
       "      <th>info/learner/default_policy/learner_stats/policy_entropy</th>\n",
       "      <th>info/learner/default_policy/learner_stats/var_gnorm</th>\n",
       "      <th>info/learner/default_policy/learner_stats/vf_loss</th>\n",
       "      <th>info/learner/default_policy/learner_stats/grad_gnorm</th>\n",
       "      <th>info/learner/default_policy/learner_stats/vf_explained_var</th>\n",
       "    </tr>\n",
       "  </thead>\n",
       "  <tbody>\n",
       "    <tr>\n",
       "      <th>0</th>\n",
       "      <td>-9.128667</td>\n",
       "      <td>-234.629453</td>\n",
       "      <td>-125.015471</td>\n",
       "      <td>1.0</td>\n",
       "      <td>45</td>\n",
       "      <td>0</td>\n",
       "      <td>4</td>\n",
       "      <td>0</td>\n",
       "      <td>0</td>\n",
       "      <td>40</td>\n",
       "      <td>...</td>\n",
       "      <td>26285.982530</td>\n",
       "      <td>0.0</td>\n",
       "      <td>0.001</td>\n",
       "      <td>0.01</td>\n",
       "      <td>-3785.1753</td>\n",
       "      <td>28.379200</td>\n",
       "      <td>22.627424</td>\n",
       "      <td>103383.360</td>\n",
       "      <td>40.0</td>\n",
       "      <td>8.940697e-08</td>\n",
       "    </tr>\n",
       "    <tr>\n",
       "      <th>1</th>\n",
       "      <td>-9.128667</td>\n",
       "      <td>-234.629453</td>\n",
       "      <td>-133.501650</td>\n",
       "      <td>1.0</td>\n",
       "      <td>43</td>\n",
       "      <td>0</td>\n",
       "      <td>4</td>\n",
       "      <td>0</td>\n",
       "      <td>0</td>\n",
       "      <td>80</td>\n",
       "      <td>...</td>\n",
       "      <td>26744.403441</td>\n",
       "      <td>0.0</td>\n",
       "      <td>0.001</td>\n",
       "      <td>0.01</td>\n",
       "      <td>-4529.1320</td>\n",
       "      <td>28.456583</td>\n",
       "      <td>22.639826</td>\n",
       "      <td>149393.640</td>\n",
       "      <td>40.0</td>\n",
       "      <td>1.043081e-07</td>\n",
       "    </tr>\n",
       "    <tr>\n",
       "      <th>2</th>\n",
       "      <td>-9.128667</td>\n",
       "      <td>-234.629453</td>\n",
       "      <td>-117.878714</td>\n",
       "      <td>1.0</td>\n",
       "      <td>39</td>\n",
       "      <td>0</td>\n",
       "      <td>4</td>\n",
       "      <td>0</td>\n",
       "      <td>0</td>\n",
       "      <td>120</td>\n",
       "      <td>...</td>\n",
       "      <td>27120.531692</td>\n",
       "      <td>0.0</td>\n",
       "      <td>0.001</td>\n",
       "      <td>0.01</td>\n",
       "      <td>-2136.3780</td>\n",
       "      <td>28.615942</td>\n",
       "      <td>22.692387</td>\n",
       "      <td>50725.582</td>\n",
       "      <td>40.0</td>\n",
       "      <td>5.960465e-08</td>\n",
       "    </tr>\n",
       "    <tr>\n",
       "      <th>3</th>\n",
       "      <td>-9.128667</td>\n",
       "      <td>-234.591407</td>\n",
       "      <td>-111.499195</td>\n",
       "      <td>1.0</td>\n",
       "      <td>39</td>\n",
       "      <td>0</td>\n",
       "      <td>4</td>\n",
       "      <td>0</td>\n",
       "      <td>0</td>\n",
       "      <td>160</td>\n",
       "      <td>...</td>\n",
       "      <td>27469.926756</td>\n",
       "      <td>0.0</td>\n",
       "      <td>0.001</td>\n",
       "      <td>0.01</td>\n",
       "      <td>-3066.7485</td>\n",
       "      <td>28.976936</td>\n",
       "      <td>22.796150</td>\n",
       "      <td>109605.164</td>\n",
       "      <td>40.0</td>\n",
       "      <td>8.940697e-08</td>\n",
       "    </tr>\n",
       "    <tr>\n",
       "      <th>4</th>\n",
       "      <td>-9.128667</td>\n",
       "      <td>-234.591407</td>\n",
       "      <td>-118.954389</td>\n",
       "      <td>1.0</td>\n",
       "      <td>42</td>\n",
       "      <td>0</td>\n",
       "      <td>4</td>\n",
       "      <td>0</td>\n",
       "      <td>0</td>\n",
       "      <td>200</td>\n",
       "      <td>...</td>\n",
       "      <td>27705.729094</td>\n",
       "      <td>0.0</td>\n",
       "      <td>0.001</td>\n",
       "      <td>0.01</td>\n",
       "      <td>-3542.7349</td>\n",
       "      <td>29.611834</td>\n",
       "      <td>22.956760</td>\n",
       "      <td>120253.260</td>\n",
       "      <td>40.0</td>\n",
       "      <td>5.960465e-08</td>\n",
       "    </tr>\n",
       "  </tbody>\n",
       "</table>\n",
       "<p>5 rows × 77 columns</p>\n",
       "</div>"
      ],
      "text/plain": [
       "   episode_reward_max  episode_reward_min  episode_reward_mean  \\\n",
       "0           -9.128667         -234.629453          -125.015471   \n",
       "1           -9.128667         -234.629453          -133.501650   \n",
       "2           -9.128667         -234.629453          -117.878714   \n",
       "3           -9.128667         -234.591407          -111.499195   \n",
       "4           -9.128667         -234.591407          -118.954389   \n",
       "\n",
       "   episode_len_mean  episodes_this_iter  num_faulty_episodes  \\\n",
       "0               1.0                  45                    0   \n",
       "1               1.0                  43                    0   \n",
       "2               1.0                  39                    0   \n",
       "3               1.0                  39                    0   \n",
       "4               1.0                  42                    0   \n",
       "\n",
       "   num_healthy_workers  num_in_flight_async_reqs  num_remote_worker_restarts  \\\n",
       "0                    4                         0                           0   \n",
       "1                    4                         0                           0   \n",
       "2                    4                         0                           0   \n",
       "3                    4                         0                           0   \n",
       "4                    4                         0                           0   \n",
       "\n",
       "   num_agent_steps_sampled  ...  \\\n",
       "0                       40  ...   \n",
       "1                       80  ...   \n",
       "2                      120  ...   \n",
       "3                      160  ...   \n",
       "4                      200  ...   \n",
       "\n",
       "   sampler_results/sampler_perf/mean_env_wait_ms  \\\n",
       "0                                   26285.982530   \n",
       "1                                   26744.403441   \n",
       "2                                   27120.531692   \n",
       "3                                   27469.926756   \n",
       "4                                   27705.729094   \n",
       "\n",
       "   sampler_results/sampler_perf/mean_env_render_ms  \\\n",
       "0                                              0.0   \n",
       "1                                              0.0   \n",
       "2                                              0.0   \n",
       "3                                              0.0   \n",
       "4                                              0.0   \n",
       "\n",
       "   info/learner/default_policy/learner_stats/cur_lr  \\\n",
       "0                                             0.001   \n",
       "1                                             0.001   \n",
       "2                                             0.001   \n",
       "3                                             0.001   \n",
       "4                                             0.001   \n",
       "\n",
       "   info/learner/default_policy/learner_stats/entropy_coeff  \\\n",
       "0                                               0.01         \n",
       "1                                               0.01         \n",
       "2                                               0.01         \n",
       "3                                               0.01         \n",
       "4                                               0.01         \n",
       "\n",
       "   info/learner/default_policy/learner_stats/policy_loss  \\\n",
       "0                                         -3785.1753       \n",
       "1                                         -4529.1320       \n",
       "2                                         -2136.3780       \n",
       "3                                         -3066.7485       \n",
       "4                                         -3542.7349       \n",
       "\n",
       "   info/learner/default_policy/learner_stats/policy_entropy  \\\n",
       "0                                          28.379200          \n",
       "1                                          28.456583          \n",
       "2                                          28.615942          \n",
       "3                                          28.976936          \n",
       "4                                          29.611834          \n",
       "\n",
       "   info/learner/default_policy/learner_stats/var_gnorm  \\\n",
       "0                                          22.627424     \n",
       "1                                          22.639826     \n",
       "2                                          22.692387     \n",
       "3                                          22.796150     \n",
       "4                                          22.956760     \n",
       "\n",
       "   info/learner/default_policy/learner_stats/vf_loss  \\\n",
       "0                                         103383.360   \n",
       "1                                         149393.640   \n",
       "2                                          50725.582   \n",
       "3                                         109605.164   \n",
       "4                                         120253.260   \n",
       "\n",
       "   info/learner/default_policy/learner_stats/grad_gnorm  \\\n",
       "0                                               40.0      \n",
       "1                                               40.0      \n",
       "2                                               40.0      \n",
       "3                                               40.0      \n",
       "4                                               40.0      \n",
       "\n",
       "   info/learner/default_policy/learner_stats/vf_explained_var  \n",
       "0                                       8.940697e-08           \n",
       "1                                       1.043081e-07           \n",
       "2                                       5.960465e-08           \n",
       "3                                       8.940697e-08           \n",
       "4                                       5.960465e-08           \n",
       "\n",
       "[5 rows x 77 columns]"
      ]
     },
     "execution_count": 114,
     "metadata": {},
     "output_type": "execute_result"
    }
   ],
   "source": [
    "df1.head()"
   ]
  },
  {
   "cell_type": "code",
   "execution_count": 115,
   "id": "92718776",
   "metadata": {},
   "outputs": [
    {
     "name": "stdout",
     "output_type": "stream",
     "text": [
      "Figure(432x288)\n"
     ]
    }
   ],
   "source": [
    "%matplotlib inline\n",
    "fig, ax = plt.subplots()\n"
   ]
  },
  {
   "cell_type": "code",
   "execution_count": null,
   "id": "b550e9fd",
   "metadata": {},
   "outputs": [],
   "source": []
  },
  {
   "cell_type": "code",
   "execution_count": 116,
   "id": "4edcd724",
   "metadata": {},
   "outputs": [
    {
     "data": {
      "text/plain": [
       "<matplotlib.legend.Legend at 0x7f7bc5b859a0>"
      ]
     },
     "execution_count": 116,
     "metadata": {},
     "output_type": "execute_result"
    },
    {
     "name": "stdout",
     "output_type": "stream",
     "text": [
      "Figure(432x288)\n"
     ]
    }
   ],
   "source": [
    "import matplotlib.pyplot as plt\n",
    "%matplotlib inline\n",
    "\n",
    "plt.plot(df1[\"episode_reward_mean\"], label=\"label\", color=\"red\")\n",
    "plt.savefig('a2c.png')\n",
    "plt.legend()"
   ]
  },
  {
   "cell_type": "code",
   "execution_count": 107,
   "id": "6bb126ec",
   "metadata": {},
   "outputs": [],
   "source": [
    "def plot_mean_r_history(results, colors, labels, ax=None):\n",
    "    if ax is None:\n",
    "        fig, ax = plt.subplots()\n",
    "    ax.set_title(\"True function (Mean Reward) value over training iterations\")\n",
    "    ax.set_xlabel(\"training_iteration\")\n",
    "    ax.set_ylabel(\"Mean Reward\")\n",
    "\n",
    "    for i in range(len(results)):\n",
    "        print(i)\n",
    "        df = results[i].metrics_dataframe\n",
    "        ax.plot(df[\"episode_reward_mean\"], label=labels[i], color=colors[i])\n",
    "    ax.legend()"
   ]
  },
  {
   "cell_type": "code",
   "execution_count": 117,
   "id": "3fa8c4e5",
   "metadata": {},
   "outputs": [],
   "source": [
    "def plot_parameter_history(\n",
    "    results,\n",
    "    colors,\n",
    "    labels,\n",
    "    perturbation_interval=None,\n",
    "    fig=None,\n",
    "    ax=None,\n",
    "    plot_until_iter=None,\n",
    "    include_colorbar=True,\n",
    "):\n",
    "    if fig is None or ax is None:\n",
    "        fig, ax = plt.subplots()\n",
    "\n",
    "    theta_0 = get_init_theta()\n",
    "\n",
    "    x = np.linspace(-0.2, 1.0, 50)\n",
    "    y = np.linspace(-0.2, 1.0, 50)\n",
    "    xx, yy = np.meshgrid(x, y)\n",
    "    xys = np.transpose(np.stack((xx, yy)).reshape(2, -1))\n",
    "    contour = ax.contourf(xx, yy, Q_batch(xys).reshape(xx.shape), 20)\n",
    "    ax.set_xlabel(\"theta0\")\n",
    "    ax.set_ylabel(\"theta1\")\n",
    "    ax.set_title(\"Q(theta)\")\n",
    "\n",
    "    scatters = []\n",
    "    for i in range(len(results)):\n",
    "        df = results[i].metrics_dataframe\n",
    "\n",
    "        # Append the initial theta values to the history\n",
    "        theta0_history = np.concatenate([[theta_0[0]], df[\"theta0\"].to_numpy()])\n",
    "        theta1_history = np.concatenate([[theta_0[1]], df[\"theta1\"].to_numpy()])\n",
    "        training_iters = np.concatenate([[0], df[\"training_iteration\"].to_numpy()])\n",
    "\n",
    "        if plot_until_iter is None:\n",
    "            plot_until_iter = len(training_iters)\n",
    "\n",
    "        scatter = ax.scatter(\n",
    "            theta0_history[:plot_until_iter],\n",
    "            theta1_history[:plot_until_iter],\n",
    "            # Size of scatter point decreases as training iteration increases\n",
    "            s=100 / ((training_iters[:plot_until_iter] + 1) ** 1 / 3),\n",
    "            alpha=0.5,\n",
    "            c=colors[i],\n",
    "            label=labels[i],\n",
    "        )\n",
    "        scatters.append(scatter)\n",
    "        for i, theta0, theta1 in zip(training_iters, theta0_history, theta1_history):\n",
    "            if i % (perturbation_interval or 1) == 0 and i < plot_until_iter:\n",
    "                ax.annotate(i, (theta0, theta1))\n",
    "\n",
    "        if perturbation_interval is not None:\n",
    "            theta_history = np.hstack(\n",
    "                (theta0_history.reshape(-1, 1), theta1_history.reshape(-1, 1))\n",
    "            )[:plot_until_iter, :]\n",
    "            arrow_starts, deltas = get_arrows(theta_history, perturbation_interval)\n",
    "            for arrow_start, delta in zip(arrow_starts, deltas):\n",
    "                ax.arrow(\n",
    "                    arrow_start[0],\n",
    "                    arrow_start[1],\n",
    "                    delta[0],\n",
    "                    delta[1],\n",
    "                    head_width=0.01,\n",
    "                    length_includes_head=True,\n",
    "                    alpha=0.25,\n",
    "                )\n",
    "    ax.legend(loc=\"upper left\")\n",
    "    if include_colorbar:\n",
    "        fig.colorbar(contour, ax=ax, orientation=\"vertical\")\n",
    "    return scatters"
   ]
  },
  {
   "cell_type": "code",
   "execution_count": 118,
   "id": "cc3b82de",
   "metadata": {},
   "outputs": [
    {
     "ename": "TypeError",
     "evalue": "__init__() takes 2 positional arguments but 4 were given",
     "output_type": "error",
     "traceback": [
      "\u001b[0;31m---------------------------------------------------------------------------\u001b[0m",
      "\u001b[0;31mTypeError\u001b[0m                                 Traceback (most recent call last)",
      "\u001b[0;32m<ipython-input-118-8f0c65ea4d6e>\u001b[0m in \u001b[0;36m<module>\u001b[0;34m\u001b[0m\n\u001b[0;32m----> 1\u001b[0;31m plot_parameter_history(\n\u001b[0m\u001b[1;32m      2\u001b[0m     \u001b[0mresults\u001b[0m\u001b[0;34m,\u001b[0m\u001b[0;34m\u001b[0m\u001b[0;34m\u001b[0m\u001b[0m\n\u001b[1;32m      3\u001b[0m     \u001b[0mcolors\u001b[0m\u001b[0;34m,\u001b[0m\u001b[0;34m\u001b[0m\u001b[0;34m\u001b[0m\u001b[0m\n\u001b[1;32m      4\u001b[0m     \u001b[0mlabels\u001b[0m\u001b[0;34m,\u001b[0m\u001b[0;34m\u001b[0m\u001b[0;34m\u001b[0m\u001b[0m\n\u001b[1;32m      5\u001b[0m     \u001b[0mperturbation_interval\u001b[0m\u001b[0;34m=\u001b[0m\u001b[0;36m120\u001b[0m\u001b[0;34m,\u001b[0m\u001b[0;34m\u001b[0m\u001b[0;34m\u001b[0m\u001b[0m\n",
      "\u001b[0;32m<ipython-input-117-5b0673e80cd9>\u001b[0m in \u001b[0;36mplot_parameter_history\u001b[0;34m(results, colors, labels, perturbation_interval, fig, ax, plot_until_iter, include_colorbar)\u001b[0m\n\u001b[1;32m     25\u001b[0m     \u001b[0mscatters\u001b[0m \u001b[0;34m=\u001b[0m \u001b[0;34m[\u001b[0m\u001b[0;34m]\u001b[0m\u001b[0;34m\u001b[0m\u001b[0;34m\u001b[0m\u001b[0m\n\u001b[1;32m     26\u001b[0m     \u001b[0;32mfor\u001b[0m \u001b[0mi\u001b[0m \u001b[0;32min\u001b[0m \u001b[0mrange\u001b[0m\u001b[0;34m(\u001b[0m\u001b[0mlen\u001b[0m\u001b[0;34m(\u001b[0m\u001b[0mresults\u001b[0m\u001b[0;34m)\u001b[0m\u001b[0;34m)\u001b[0m\u001b[0;34m:\u001b[0m\u001b[0;34m\u001b[0m\u001b[0;34m\u001b[0m\u001b[0m\n\u001b[0;32m---> 27\u001b[0;31m         \u001b[0mdf\u001b[0m \u001b[0;34m=\u001b[0m \u001b[0mresults\u001b[0m\u001b[0;34m[\u001b[0m\u001b[0mi\u001b[0m\u001b[0;34m]\u001b[0m\u001b[0;34m.\u001b[0m\u001b[0mmetrics_dataframe\u001b[0m\u001b[0;34m\u001b[0m\u001b[0;34m\u001b[0m\u001b[0m\n\u001b[0m\u001b[1;32m     28\u001b[0m \u001b[0;34m\u001b[0m\u001b[0m\n\u001b[1;32m     29\u001b[0m         \u001b[0;31m# Append the initial theta values to the history\u001b[0m\u001b[0;34m\u001b[0m\u001b[0;34m\u001b[0m\u001b[0;34m\u001b[0m\u001b[0m\n",
      "\u001b[0;32m/opt/anaconda3/lib/python3.8/site-packages/ray/tune/result_grid.py\u001b[0m in \u001b[0;36m__getitem__\u001b[0;34m(self, i)\u001b[0m\n\u001b[1;32m    183\u001b[0m     \u001b[0;32mdef\u001b[0m \u001b[0m__getitem__\u001b[0m\u001b[0;34m(\u001b[0m\u001b[0mself\u001b[0m\u001b[0;34m,\u001b[0m \u001b[0mi\u001b[0m\u001b[0;34m:\u001b[0m \u001b[0mint\u001b[0m\u001b[0;34m)\u001b[0m \u001b[0;34m->\u001b[0m \u001b[0mResult\u001b[0m\u001b[0;34m:\u001b[0m\u001b[0;34m\u001b[0m\u001b[0;34m\u001b[0m\u001b[0m\n\u001b[1;32m    184\u001b[0m         \u001b[0;34m\"\"\"Returns the i'th result in the grid.\"\"\"\u001b[0m\u001b[0;34m\u001b[0m\u001b[0;34m\u001b[0m\u001b[0m\n\u001b[0;32m--> 185\u001b[0;31m         return self._trial_to_result(\n\u001b[0m\u001b[1;32m    186\u001b[0m             \u001b[0mself\u001b[0m\u001b[0;34m.\u001b[0m\u001b[0m_experiment_analysis\u001b[0m\u001b[0;34m.\u001b[0m\u001b[0mtrials\u001b[0m\u001b[0;34m[\u001b[0m\u001b[0mi\u001b[0m\u001b[0;34m]\u001b[0m\u001b[0;34m,\u001b[0m\u001b[0;34m\u001b[0m\u001b[0;34m\u001b[0m\u001b[0m\n\u001b[1;32m    187\u001b[0m         )\n",
      "\u001b[0;32m/opt/anaconda3/lib/python3.8/site-packages/ray/tune/result_grid.py\u001b[0m in \u001b[0;36m_trial_to_result\u001b[0;34m(self, trial)\u001b[0m\n\u001b[1;32m    231\u001b[0m             \u001b[0mcheckpoint\u001b[0m\u001b[0;34m=\u001b[0m\u001b[0mcheckpoint\u001b[0m\u001b[0;34m,\u001b[0m\u001b[0;34m\u001b[0m\u001b[0;34m\u001b[0m\u001b[0m\n\u001b[1;32m    232\u001b[0m             \u001b[0mmetrics\u001b[0m\u001b[0;34m=\u001b[0m\u001b[0mtrial\u001b[0m\u001b[0;34m.\u001b[0m\u001b[0mlast_result\u001b[0m\u001b[0;34m.\u001b[0m\u001b[0mcopy\u001b[0m\u001b[0;34m(\u001b[0m\u001b[0;34m)\u001b[0m\u001b[0;34m,\u001b[0m\u001b[0;34m\u001b[0m\u001b[0;34m\u001b[0m\u001b[0m\n\u001b[0;32m--> 233\u001b[0;31m             \u001b[0merror\u001b[0m\u001b[0;34m=\u001b[0m\u001b[0mself\u001b[0m\u001b[0;34m.\u001b[0m\u001b[0m_populate_exception\u001b[0m\u001b[0;34m(\u001b[0m\u001b[0mtrial\u001b[0m\u001b[0;34m)\u001b[0m\u001b[0;34m,\u001b[0m\u001b[0;34m\u001b[0m\u001b[0;34m\u001b[0m\u001b[0m\n\u001b[0m\u001b[1;32m    234\u001b[0m             \u001b[0mlog_dir\u001b[0m\u001b[0;34m=\u001b[0m\u001b[0mPath\u001b[0m\u001b[0;34m(\u001b[0m\u001b[0mtrial\u001b[0m\u001b[0;34m.\u001b[0m\u001b[0mlogdir\u001b[0m\u001b[0;34m)\u001b[0m \u001b[0;32mif\u001b[0m \u001b[0mtrial\u001b[0m\u001b[0;34m.\u001b[0m\u001b[0mlogdir\u001b[0m \u001b[0;32melse\u001b[0m \u001b[0;32mNone\u001b[0m\u001b[0;34m,\u001b[0m\u001b[0;34m\u001b[0m\u001b[0;34m\u001b[0m\u001b[0m\n\u001b[1;32m    235\u001b[0m             metrics_dataframe=self._experiment_analysis.trial_dataframes.get(\n",
      "\u001b[0;32m/opt/anaconda3/lib/python3.8/site-packages/ray/tune/result_grid.py\u001b[0m in \u001b[0;36m_populate_exception\u001b[0;34m(trial)\u001b[0m\n\u001b[1;32m    214\u001b[0m         \u001b[0;32mif\u001b[0m \u001b[0mtrial\u001b[0m\u001b[0;34m.\u001b[0m\u001b[0mpickled_error_file\u001b[0m \u001b[0;32mand\u001b[0m \u001b[0mos\u001b[0m\u001b[0;34m.\u001b[0m\u001b[0mpath\u001b[0m\u001b[0;34m.\u001b[0m\u001b[0mexists\u001b[0m\u001b[0;34m(\u001b[0m\u001b[0mtrial\u001b[0m\u001b[0;34m.\u001b[0m\u001b[0mpickled_error_file\u001b[0m\u001b[0;34m)\u001b[0m\u001b[0;34m:\u001b[0m\u001b[0;34m\u001b[0m\u001b[0;34m\u001b[0m\u001b[0m\n\u001b[1;32m    215\u001b[0m             \u001b[0;32mwith\u001b[0m \u001b[0mopen\u001b[0m\u001b[0;34m(\u001b[0m\u001b[0mtrial\u001b[0m\u001b[0;34m.\u001b[0m\u001b[0mpickled_error_file\u001b[0m\u001b[0;34m,\u001b[0m \u001b[0;34m\"rb\"\u001b[0m\u001b[0;34m)\u001b[0m \u001b[0;32mas\u001b[0m \u001b[0mf\u001b[0m\u001b[0;34m:\u001b[0m\u001b[0;34m\u001b[0m\u001b[0;34m\u001b[0m\u001b[0m\n\u001b[0;32m--> 216\u001b[0;31m                 \u001b[0me\u001b[0m \u001b[0;34m=\u001b[0m \u001b[0mcloudpickle\u001b[0m\u001b[0;34m.\u001b[0m\u001b[0mload\u001b[0m\u001b[0;34m(\u001b[0m\u001b[0mf\u001b[0m\u001b[0;34m)\u001b[0m\u001b[0;34m\u001b[0m\u001b[0;34m\u001b[0m\u001b[0m\n\u001b[0m\u001b[1;32m    217\u001b[0m                 \u001b[0;32mreturn\u001b[0m \u001b[0me\u001b[0m\u001b[0;34m\u001b[0m\u001b[0;34m\u001b[0m\u001b[0m\n\u001b[1;32m    218\u001b[0m         \u001b[0;32melif\u001b[0m \u001b[0mtrial\u001b[0m\u001b[0;34m.\u001b[0m\u001b[0merror_file\u001b[0m \u001b[0;32mand\u001b[0m \u001b[0mos\u001b[0m\u001b[0;34m.\u001b[0m\u001b[0mpath\u001b[0m\u001b[0;34m.\u001b[0m\u001b[0mexists\u001b[0m\u001b[0;34m(\u001b[0m\u001b[0mtrial\u001b[0m\u001b[0;34m.\u001b[0m\u001b[0merror_file\u001b[0m\u001b[0;34m)\u001b[0m\u001b[0;34m:\u001b[0m\u001b[0;34m\u001b[0m\u001b[0;34m\u001b[0m\u001b[0m\n",
      "\u001b[0;31mTypeError\u001b[0m: __init__() takes 2 positional arguments but 4 were given"
     ]
    }
   ],
   "source": [
    "plot_parameter_history(\n",
    "    results,\n",
    "    colors,\n",
    "    labels,\n",
    "    perturbation_interval=120,\n",
    "    fig=fig,\n",
    "    ax=axs[0],\n",
    ")"
   ]
  },
  {
   "cell_type": "code",
   "execution_count": 17,
   "id": "6e36329e-c66c-4bbc-8d48-82b161743022",
   "metadata": {},
   "outputs": [
    {
     "ename": "TypeError",
     "evalue": "__init__() takes 2 positional arguments but 4 were given",
     "output_type": "error",
     "traceback": [
      "\u001b[0;31m---------------------------------------------------------------------------\u001b[0m",
      "\u001b[0;31mTypeError\u001b[0m                                 Traceback (most recent call last)",
      "\u001b[0;32m<ipython-input-17-c760a9310943>\u001b[0m in \u001b[0;36m<module>\u001b[0;34m\u001b[0m\n\u001b[1;32m      4\u001b[0m \u001b[0mlabels\u001b[0m \u001b[0;34m=\u001b[0m \u001b[0;34m[\u001b[0m\u001b[0;34m\"h = [1, 0]\"\u001b[0m\u001b[0;34m,\u001b[0m \u001b[0;34m\"h = [0, 1]\"\u001b[0m\u001b[0;34m]\u001b[0m\u001b[0;34m\u001b[0m\u001b[0;34m\u001b[0m\u001b[0m\n\u001b[1;32m      5\u001b[0m \u001b[0;34m\u001b[0m\u001b[0m\n\u001b[0;32m----> 6\u001b[0;31m plot_parameter_history(\n\u001b[0m\u001b[1;32m      7\u001b[0m     \u001b[0mresults\u001b[0m\u001b[0;34m,\u001b[0m\u001b[0;34m\u001b[0m\u001b[0;34m\u001b[0m\u001b[0m\n\u001b[1;32m      8\u001b[0m     \u001b[0mcolors\u001b[0m\u001b[0;34m,\u001b[0m\u001b[0;34m\u001b[0m\u001b[0;34m\u001b[0m\u001b[0m\n",
      "\u001b[0;32m/home/mbwie001/ms/MSC_EMOD/utils/plot_parameter_utils.py\u001b[0m in \u001b[0;36mplot_parameter_history\u001b[0;34m(results, colors, labels, perturbation_interval, fig, ax, plot_until_iter, include_colorbar)\u001b[0m\n\u001b[1;32m     55\u001b[0m     \u001b[0mscatters\u001b[0m \u001b[0;34m=\u001b[0m \u001b[0;34m[\u001b[0m\u001b[0;34m]\u001b[0m\u001b[0;34m\u001b[0m\u001b[0;34m\u001b[0m\u001b[0m\n\u001b[1;32m     56\u001b[0m     \u001b[0;32mfor\u001b[0m \u001b[0mi\u001b[0m \u001b[0;32min\u001b[0m \u001b[0mrange\u001b[0m\u001b[0;34m(\u001b[0m\u001b[0mlen\u001b[0m\u001b[0;34m(\u001b[0m\u001b[0mresults\u001b[0m\u001b[0;34m)\u001b[0m\u001b[0;34m)\u001b[0m\u001b[0;34m:\u001b[0m\u001b[0;34m\u001b[0m\u001b[0;34m\u001b[0m\u001b[0m\n\u001b[0;32m---> 57\u001b[0;31m         \u001b[0mdf\u001b[0m \u001b[0;34m=\u001b[0m \u001b[0mresults\u001b[0m\u001b[0;34m[\u001b[0m\u001b[0mi\u001b[0m\u001b[0;34m]\u001b[0m\u001b[0;34m.\u001b[0m\u001b[0mmetrics_dataframe\u001b[0m\u001b[0;34m\u001b[0m\u001b[0;34m\u001b[0m\u001b[0m\n\u001b[0m\u001b[1;32m     58\u001b[0m \u001b[0;34m\u001b[0m\u001b[0m\n\u001b[1;32m     59\u001b[0m         \u001b[0;31m# Append the initial theta values to the history\u001b[0m\u001b[0;34m\u001b[0m\u001b[0;34m\u001b[0m\u001b[0;34m\u001b[0m\u001b[0m\n",
      "\u001b[0;32m/opt/anaconda3/lib/python3.8/site-packages/ray/tune/result_grid.py\u001b[0m in \u001b[0;36m__getitem__\u001b[0;34m(self, i)\u001b[0m\n\u001b[1;32m    183\u001b[0m     \u001b[0;32mdef\u001b[0m \u001b[0m__getitem__\u001b[0m\u001b[0;34m(\u001b[0m\u001b[0mself\u001b[0m\u001b[0;34m,\u001b[0m \u001b[0mi\u001b[0m\u001b[0;34m:\u001b[0m \u001b[0mint\u001b[0m\u001b[0;34m)\u001b[0m \u001b[0;34m->\u001b[0m \u001b[0mResult\u001b[0m\u001b[0;34m:\u001b[0m\u001b[0;34m\u001b[0m\u001b[0;34m\u001b[0m\u001b[0m\n\u001b[1;32m    184\u001b[0m         \u001b[0;34m\"\"\"Returns the i'th result in the grid.\"\"\"\u001b[0m\u001b[0;34m\u001b[0m\u001b[0;34m\u001b[0m\u001b[0m\n\u001b[0;32m--> 185\u001b[0;31m         return self._trial_to_result(\n\u001b[0m\u001b[1;32m    186\u001b[0m             \u001b[0mself\u001b[0m\u001b[0;34m.\u001b[0m\u001b[0m_experiment_analysis\u001b[0m\u001b[0;34m.\u001b[0m\u001b[0mtrials\u001b[0m\u001b[0;34m[\u001b[0m\u001b[0mi\u001b[0m\u001b[0;34m]\u001b[0m\u001b[0;34m,\u001b[0m\u001b[0;34m\u001b[0m\u001b[0;34m\u001b[0m\u001b[0m\n\u001b[1;32m    187\u001b[0m         )\n",
      "\u001b[0;32m/opt/anaconda3/lib/python3.8/site-packages/ray/tune/result_grid.py\u001b[0m in \u001b[0;36m_trial_to_result\u001b[0;34m(self, trial)\u001b[0m\n\u001b[1;32m    231\u001b[0m             \u001b[0mcheckpoint\u001b[0m\u001b[0;34m=\u001b[0m\u001b[0mcheckpoint\u001b[0m\u001b[0;34m,\u001b[0m\u001b[0;34m\u001b[0m\u001b[0;34m\u001b[0m\u001b[0m\n\u001b[1;32m    232\u001b[0m             \u001b[0mmetrics\u001b[0m\u001b[0;34m=\u001b[0m\u001b[0mtrial\u001b[0m\u001b[0;34m.\u001b[0m\u001b[0mlast_result\u001b[0m\u001b[0;34m.\u001b[0m\u001b[0mcopy\u001b[0m\u001b[0;34m(\u001b[0m\u001b[0;34m)\u001b[0m\u001b[0;34m,\u001b[0m\u001b[0;34m\u001b[0m\u001b[0;34m\u001b[0m\u001b[0m\n\u001b[0;32m--> 233\u001b[0;31m             \u001b[0merror\u001b[0m\u001b[0;34m=\u001b[0m\u001b[0mself\u001b[0m\u001b[0;34m.\u001b[0m\u001b[0m_populate_exception\u001b[0m\u001b[0;34m(\u001b[0m\u001b[0mtrial\u001b[0m\u001b[0;34m)\u001b[0m\u001b[0;34m,\u001b[0m\u001b[0;34m\u001b[0m\u001b[0;34m\u001b[0m\u001b[0m\n\u001b[0m\u001b[1;32m    234\u001b[0m             \u001b[0mlog_dir\u001b[0m\u001b[0;34m=\u001b[0m\u001b[0mPath\u001b[0m\u001b[0;34m(\u001b[0m\u001b[0mtrial\u001b[0m\u001b[0;34m.\u001b[0m\u001b[0mlogdir\u001b[0m\u001b[0;34m)\u001b[0m \u001b[0;32mif\u001b[0m \u001b[0mtrial\u001b[0m\u001b[0;34m.\u001b[0m\u001b[0mlogdir\u001b[0m \u001b[0;32melse\u001b[0m \u001b[0;32mNone\u001b[0m\u001b[0;34m,\u001b[0m\u001b[0;34m\u001b[0m\u001b[0;34m\u001b[0m\u001b[0m\n\u001b[1;32m    235\u001b[0m             metrics_dataframe=self._experiment_analysis.trial_dataframes.get(\n",
      "\u001b[0;32m/opt/anaconda3/lib/python3.8/site-packages/ray/tune/result_grid.py\u001b[0m in \u001b[0;36m_populate_exception\u001b[0;34m(trial)\u001b[0m\n\u001b[1;32m    214\u001b[0m         \u001b[0;32mif\u001b[0m \u001b[0mtrial\u001b[0m\u001b[0;34m.\u001b[0m\u001b[0mpickled_error_file\u001b[0m \u001b[0;32mand\u001b[0m \u001b[0mos\u001b[0m\u001b[0;34m.\u001b[0m\u001b[0mpath\u001b[0m\u001b[0;34m.\u001b[0m\u001b[0mexists\u001b[0m\u001b[0;34m(\u001b[0m\u001b[0mtrial\u001b[0m\u001b[0;34m.\u001b[0m\u001b[0mpickled_error_file\u001b[0m\u001b[0;34m)\u001b[0m\u001b[0;34m:\u001b[0m\u001b[0;34m\u001b[0m\u001b[0;34m\u001b[0m\u001b[0m\n\u001b[1;32m    215\u001b[0m             \u001b[0;32mwith\u001b[0m \u001b[0mopen\u001b[0m\u001b[0;34m(\u001b[0m\u001b[0mtrial\u001b[0m\u001b[0;34m.\u001b[0m\u001b[0mpickled_error_file\u001b[0m\u001b[0;34m,\u001b[0m \u001b[0;34m\"rb\"\u001b[0m\u001b[0;34m)\u001b[0m \u001b[0;32mas\u001b[0m \u001b[0mf\u001b[0m\u001b[0;34m:\u001b[0m\u001b[0;34m\u001b[0m\u001b[0;34m\u001b[0m\u001b[0m\n\u001b[0;32m--> 216\u001b[0;31m                 \u001b[0me\u001b[0m \u001b[0;34m=\u001b[0m \u001b[0mcloudpickle\u001b[0m\u001b[0;34m.\u001b[0m\u001b[0mload\u001b[0m\u001b[0;34m(\u001b[0m\u001b[0mf\u001b[0m\u001b[0;34m)\u001b[0m\u001b[0;34m\u001b[0m\u001b[0;34m\u001b[0m\u001b[0m\n\u001b[0m\u001b[1;32m    217\u001b[0m                 \u001b[0;32mreturn\u001b[0m \u001b[0me\u001b[0m\u001b[0;34m\u001b[0m\u001b[0;34m\u001b[0m\u001b[0m\n\u001b[1;32m    218\u001b[0m         \u001b[0;32melif\u001b[0m \u001b[0mtrial\u001b[0m\u001b[0;34m.\u001b[0m\u001b[0merror_file\u001b[0m \u001b[0;32mand\u001b[0m \u001b[0mos\u001b[0m\u001b[0;34m.\u001b[0m\u001b[0mpath\u001b[0m\u001b[0;34m.\u001b[0m\u001b[0mexists\u001b[0m\u001b[0;34m(\u001b[0m\u001b[0mtrial\u001b[0m\u001b[0;34m.\u001b[0m\u001b[0merror_file\u001b[0m\u001b[0;34m)\u001b[0m\u001b[0;34m:\u001b[0m\u001b[0;34m\u001b[0m\u001b[0;34m\u001b[0m\u001b[0m\n",
      "\u001b[0;31mTypeError\u001b[0m: __init__() takes 2 positional arguments but 4 were given"
     ]
    },
    {
     "name": "stdout",
     "output_type": "stream",
     "text": [
      "Figure(936x432)\n"
     ]
    }
   ],
   "source": [
    "\n",
    "\n",
    "\n",
    "plot_Q_history(grid_results, colors, labels, ax=axs[1])"
   ]
  },
  {
   "cell_type": "code",
   "execution_count": null,
   "id": "dcb77ad5",
   "metadata": {},
   "outputs": [],
   "source": []
  }
 ],
 "metadata": {
  "kernelspec": {
   "display_name": "Python 3",
   "language": "python",
   "name": "python3"
  },
  "language_info": {
   "codemirror_mode": {
    "name": "ipython",
    "version": 3
   },
   "file_extension": ".py",
   "mimetype": "text/x-python",
   "name": "python",
   "nbconvert_exporter": "python",
   "pygments_lexer": "ipython3",
   "version": "3.8.8"
  }
 },
 "nbformat": 4,
 "nbformat_minor": 5
}
